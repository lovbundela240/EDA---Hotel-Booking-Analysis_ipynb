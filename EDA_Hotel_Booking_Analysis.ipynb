{
  "nbformat": 4,
  "nbformat_minor": 0,
  "metadata": {
    "colab": {
      "provenance": [],
      "collapsed_sections": [
        "GF8Ens_Soomf",
        "0wOQAZs5pc--",
        "K5QZ13OEpz2H",
        "lQ7QKXXCp7Bj",
        "448CDAPjqfQr",
        "KSlN3yHqYklG",
        "t6dVpIINYklI",
        "ijmpgYnKYklI",
        "-JiQyfWJYklI",
        "EM7whBJCYoAo",
        "fge-S5ZAYoAp",
        "85gYPyotYoAp",
        "RoGjAbkUYoAp",
        "4Of9eVA-YrdM",
        "iky9q4vBYrdO",
        "F6T5p64dYrdO",
        "y-Ehk30pYrdP",
        "bamQiAODYuh1",
        "QHF8YVU7Yuh3",
        "GwzvFGzlYuh3",
        "qYpmQ266Yuh3",
        "OH-pJp9IphqM",
        "bbFf2-_FphqN",
        "_ouA3fa0phqN",
        "Seke61FWphqN",
        "PIIx-8_IphqN",
        "t27r6nlMphqO",
        "r2jJGEOYphqO",
        "b0JNsNcRphqO",
        "BZR9WyysphqO",
        "jj7wYXLtphqO",
        "eZrbJ2SmphqO",
        "rFu4xreNphqO",
        "YJ55k-q6phqO",
        "gCFgpxoyphqP",
        "OVtJsKN_phqQ",
        "lssrdh5qphqQ",
        "U2RJ9gkRphqQ",
        "1M8mcRywphqQ",
        "tgIPom80phqQ",
        "JMzcOPDDphqR",
        "x-EpHcCOp1ci",
        "X_VqEhTip1ck",
        "8zGJKyg5p1ck",
        "PVzmfK_Ep1ck",
        "n3dbpmDWp1ck",
        "ylSl6qgtp1ck",
        "ZWILFDl5p1ck",
        "M7G43BXep1ck",
        "Ag9LCva-p1cl",
        "E6MkPsBcp1cl",
        "2cELzS2fp1cl",
        "3MPXvC8up1cl",
        "NC_X3p0fY2L0",
        "UV0SzAkaZNRQ",
        "YPEH6qLeZNRQ",
        "q29F0dvdveiT",
        "EXh0U9oCveiU",
        "22aHeOlLveiV",
        "JcMwzZxoAimU",
        "8G2x9gOozGDZ",
        "gCX9965dhzqZ",
        "gIfDvo9L0UH2"
      ],
      "include_colab_link": true
    },
    "kernelspec": {
      "name": "python3",
      "display_name": "Python 3"
    },
    "language_info": {
      "name": "python"
    }
  },
  "cells": [
    {
      "cell_type": "markdown",
      "metadata": {
        "id": "view-in-github",
        "colab_type": "text"
      },
      "source": [
        "<a href=\"https://colab.research.google.com/github/lovbundela240/EDA---Hotel-Booking-Analysis_ipynb/blob/main/EDA_Hotel_Booking_Analysis.ipynb\" target=\"_parent\"><img src=\"https://colab.research.google.com/assets/colab-badge.svg\" alt=\"Open In Colab\"/></a>"
      ]
    },
    {
      "cell_type": "markdown",
      "source": [
        "# **Project Name**    - *Hotel Booking Analysis*\n",
        "\n"
      ],
      "metadata": {
        "id": "vncDsAP0Gaoa"
      }
    },
    {
      "cell_type": "markdown",
      "source": [
        "##### **Project Type**    - EDA\n",
        "##### **Contribution**    - LOV BUNDELA (Individual)\n"
      ],
      "metadata": {
        "id": "beRrZCGUAJYm"
      }
    },
    {
      "cell_type": "markdown",
      "source": [
        "# **Project Summary -**\n",
        "\n"
      ],
      "metadata": {
        "id": "FJNUwmbgGyua"
      }
    },
    {
      "cell_type": "markdown",
      "source": [
        "This project is related to Hotel Booking having two hotel descriptions i.e, City Hotel and Resort Hotel. in this dataset contains total rows 119390 and 32 columns. In this we divided data in three category ,    \n",
        "\n",
        "*  (a) Data Collection\n",
        "*  (b) Data cleaning and Manipulation\n",
        "*  (c)Exploratory Data Anaylsis.\n",
        "\n",
        "This project dataset contains booking information such as when the booking was made, length of stay, the number of adults, childrens and/or babies, and the number of available parking spaces, among the other things.\n",
        "\n",
        "In this project data set we get to know about that when bookings were made more and when bookings get canceled, we will see different visualisations and statistical techniques for better understanding, by different visualisations we see Distrubutions of booking over hotel type, Distributions of booking cancelation over week number & we will discuss some new ideas for providing better facilities to customers so that hotels made more revenue.\n",
        "\n",
        "Here, i will use different libraries such numpy, pandas, matplotlib, seaborn for visualisations and behaviour with respect to the target variable"
      ],
      "metadata": {
        "id": "F6v_1wHtG2nS"
      }
    },
    {
      "cell_type": "markdown",
      "source": [
        "# **GitHub Link -**"
      ],
      "metadata": {
        "id": "w6K7xa23Elo4"
      }
    },
    {
      "cell_type": "markdown",
      "source": [
        "https://github.com/lovbundela240/EDA---Hotel-Booking-Analysis_ipynb.git"
      ],
      "metadata": {
        "id": "h1o69JH3Eqqn"
      }
    },
    {
      "cell_type": "markdown",
      "source": [
        "# **Problem Statement**\n"
      ],
      "metadata": {
        "id": "yQaldy8SH6Dl"
      }
    },
    {
      "cell_type": "markdown",
      "source": [
        "**Have you ever wondered when the best time of the year to book a hotel room is? Or the optimal length of stay in order to get the best daily rate? What if you wanted to predict whether or not a hotel like was likely to receive a disproportionately high number of special requests? This hotel booking data set can help you explore those questions! This data set contains booking information for a city hotel and resort hotel, and includes information such as when the booking was made, length of stay, the number of adults, children's and/or babies, and the number of available parking spaces, among the other things. All personally identifying information has been removed from the data. Explore and analyse the data to discover important factors that govern the bookings.**"
      ],
      "metadata": {
        "id": "DpeJGUA3kjGy"
      }
    },
    {
      "cell_type": "markdown",
      "source": [
        "#### **Define Your Business Objective?**"
      ],
      "metadata": {
        "id": "PH-0ReGfmX4f"
      }
    },
    {
      "cell_type": "markdown",
      "source": [
        "This is to analyse the bookings of City hotel and Resort hotel, to gain insights on the different factors that affect the bookings."
      ],
      "metadata": {
        "id": "PhDvGCAqmjP1"
      }
    },
    {
      "cell_type": "markdown",
      "source": [
        "# **General Guidelines** : -  "
      ],
      "metadata": {
        "id": "mDgbUHAGgjLW"
      }
    },
    {
      "cell_type": "markdown",
      "source": [
        "1.   Well-structured, formatted, and commented code is required.\n",
        "2.   Exception Handling, Production Grade Code & Deployment Ready Code will be a plus. Those students will be awarded some additional credits.\n",
        "     \n",
        "     The additional credits will have advantages over other students during Star Student selection.\n",
        "       \n",
        "             [ Note: - Deployment Ready Code is defined as, the whole .ipynb notebook should be executable in one go\n",
        "                       without a single error logged. ]\n",
        "\n",
        "3.   Each and every logic should have proper comments.\n",
        "4. You may add as many number of charts you want. Make Sure for each and every chart the following format should be answered.\n",
        "        \n",
        "\n",
        "```\n",
        "# Chart visualization code\n",
        "```\n",
        "            \n",
        "\n",
        "*   Why did you pick the specific chart?\n",
        "*   What is/are the insight(s) found from the chart?\n",
        "* Will the gained insights help creating a positive business impact?\n",
        "Are there any insights that lead to negative growth? Justify with specific reason.\n",
        "\n",
        "5. You have to create at least 20 logical & meaningful charts having important insights.\n",
        "\n",
        "\n",
        "[ Hints : - Do the Vizualization in  a structured way while following \"UBM\" Rule.\n",
        "\n",
        "U - Univariate Analysis,\n",
        "\n",
        "B - Bivariate Analysis (Numerical - Categorical, Numerical - Numerical, Categorical - Categorical)\n",
        "\n",
        "M - Multivariate Analysis\n",
        " ]\n",
        "\n",
        "\n",
        "\n"
      ],
      "metadata": {
        "id": "ZrxVaUj-hHfC"
      }
    },
    {
      "cell_type": "markdown",
      "source": [
        "# ***Let's Begin !***"
      ],
      "metadata": {
        "id": "O_i_v8NEhb9l"
      }
    },
    {
      "cell_type": "markdown",
      "source": [
        "## ***1. Know Your Data***"
      ],
      "metadata": {
        "id": "HhfV-JJviCcP"
      }
    },
    {
      "cell_type": "markdown",
      "source": [
        "### Import Libraries"
      ],
      "metadata": {
        "id": "Y3lxredqlCYt"
      }
    },
    {
      "cell_type": "code",
      "source": [
        "# Import Libraries\n",
        "import numpy as np\n",
        "import pandas as pd\n",
        "import matplotlib.pyplot as plt\n",
        "%matplotlib inline\n",
        "import seaborn as sns\n",
        "from datetime import datetime\n",
        "from datetime import date\n",
        "from datetime import timedelta\n"
      ],
      "metadata": {
        "id": "M8Vqi-pPk-HR"
      },
      "execution_count": 1,
      "outputs": []
    },
    {
      "cell_type": "code",
      "source": [
        "# Load Dataset\n",
        "from google.colab import drive"
      ],
      "metadata": {
        "id": "4CkvbW_SlZ_R"
      },
      "execution_count": 2,
      "outputs": []
    },
    {
      "cell_type": "markdown",
      "source": [
        "### Dataset First View"
      ],
      "metadata": {
        "id": "x71ZqKXriCWQ"
      }
    },
    {
      "cell_type": "code",
      "source": [
        "from google.colab import drive\n",
        "drive.mount('/content/drive')"
      ],
      "metadata": {
        "colab": {
          "base_uri": "https://localhost:8080/"
        },
        "id": "9aSbO4AYxyJG",
        "outputId": "a705a392-23b7-427b-a5ad-f9b6db074e43"
      },
      "execution_count": 3,
      "outputs": [
        {
          "output_type": "stream",
          "name": "stdout",
          "text": [
            "Mounted at /content/drive\n"
          ]
        }
      ]
    },
    {
      "cell_type": "code",
      "source": [
        "dataset = \"/content/drive/MyDrive/Colab Notebooks/AlmaBetter/Module 1/project dataset/Hotel Bookings.csv\"\n"
      ],
      "metadata": {
        "id": "Xm0WQtgSyH0G"
      },
      "execution_count": 4,
      "outputs": []
    },
    {
      "cell_type": "code",
      "source": [
        "hotel_booking_analysis_df = pd.read_csv(dataset)"
      ],
      "metadata": {
        "id": "8mWd_eUBzJAZ"
      },
      "execution_count": 5,
      "outputs": []
    },
    {
      "cell_type": "markdown",
      "source": [
        "### Dataset Loading"
      ],
      "metadata": {
        "id": "3RnN4peoiCZX"
      }
    },
    {
      "cell_type": "code",
      "source": [
        "# Dataset First Look\n",
        "hotel_booking_analysis_df"
      ],
      "metadata": {
        "id": "LWNFOSvLl09H",
        "colab": {
          "base_uri": "https://localhost:8080/",
          "height": 661
        },
        "outputId": "9468bf00-81af-49f2-b420-f5bfb40ee4ca"
      },
      "execution_count": 6,
      "outputs": [
        {
          "output_type": "execute_result",
          "data": {
            "text/plain": [
              "               hotel  is_canceled  lead_time  arrival_date_year  \\\n",
              "0       Resort Hotel            0        342               2015   \n",
              "1       Resort Hotel            0        737               2015   \n",
              "2       Resort Hotel            0          7               2015   \n",
              "3       Resort Hotel            0         13               2015   \n",
              "4       Resort Hotel            0         14               2015   \n",
              "...              ...          ...        ...                ...   \n",
              "119385    City Hotel            0         23               2017   \n",
              "119386    City Hotel            0        102               2017   \n",
              "119387    City Hotel            0         34               2017   \n",
              "119388    City Hotel            0        109               2017   \n",
              "119389    City Hotel            0        205               2017   \n",
              "\n",
              "       arrival_date_month  arrival_date_week_number  \\\n",
              "0                    July                        27   \n",
              "1                    July                        27   \n",
              "2                    July                        27   \n",
              "3                    July                        27   \n",
              "4                    July                        27   \n",
              "...                   ...                       ...   \n",
              "119385             August                        35   \n",
              "119386             August                        35   \n",
              "119387             August                        35   \n",
              "119388             August                        35   \n",
              "119389             August                        35   \n",
              "\n",
              "        arrival_date_day_of_month  stays_in_weekend_nights  \\\n",
              "0                               1                        0   \n",
              "1                               1                        0   \n",
              "2                               1                        0   \n",
              "3                               1                        0   \n",
              "4                               1                        0   \n",
              "...                           ...                      ...   \n",
              "119385                         30                        2   \n",
              "119386                         31                        2   \n",
              "119387                         31                        2   \n",
              "119388                         31                        2   \n",
              "119389                         29                        2   \n",
              "\n",
              "        stays_in_week_nights  adults  ...  deposit_type  agent company  \\\n",
              "0                          0       2  ...    No Deposit    NaN     NaN   \n",
              "1                          0       2  ...    No Deposit    NaN     NaN   \n",
              "2                          1       1  ...    No Deposit    NaN     NaN   \n",
              "3                          1       1  ...    No Deposit  304.0     NaN   \n",
              "4                          2       2  ...    No Deposit  240.0     NaN   \n",
              "...                      ...     ...  ...           ...    ...     ...   \n",
              "119385                     5       2  ...    No Deposit  394.0     NaN   \n",
              "119386                     5       3  ...    No Deposit    9.0     NaN   \n",
              "119387                     5       2  ...    No Deposit    9.0     NaN   \n",
              "119388                     5       2  ...    No Deposit   89.0     NaN   \n",
              "119389                     7       2  ...    No Deposit    9.0     NaN   \n",
              "\n",
              "       days_in_waiting_list customer_type     adr  \\\n",
              "0                         0     Transient    0.00   \n",
              "1                         0     Transient    0.00   \n",
              "2                         0     Transient   75.00   \n",
              "3                         0     Transient   75.00   \n",
              "4                         0     Transient   98.00   \n",
              "...                     ...           ...     ...   \n",
              "119385                    0     Transient   96.14   \n",
              "119386                    0     Transient  225.43   \n",
              "119387                    0     Transient  157.71   \n",
              "119388                    0     Transient  104.40   \n",
              "119389                    0     Transient  151.20   \n",
              "\n",
              "        required_car_parking_spaces  total_of_special_requests  \\\n",
              "0                                 0                          0   \n",
              "1                                 0                          0   \n",
              "2                                 0                          0   \n",
              "3                                 0                          0   \n",
              "4                                 0                          1   \n",
              "...                             ...                        ...   \n",
              "119385                            0                          0   \n",
              "119386                            0                          2   \n",
              "119387                            0                          4   \n",
              "119388                            0                          0   \n",
              "119389                            0                          2   \n",
              "\n",
              "        reservation_status reservation_status_date  \n",
              "0                Check-Out              2015-07-01  \n",
              "1                Check-Out              2015-07-01  \n",
              "2                Check-Out              2015-07-02  \n",
              "3                Check-Out              2015-07-02  \n",
              "4                Check-Out              2015-07-03  \n",
              "...                    ...                     ...  \n",
              "119385           Check-Out              2017-09-06  \n",
              "119386           Check-Out              2017-09-07  \n",
              "119387           Check-Out              2017-09-07  \n",
              "119388           Check-Out              2017-09-07  \n",
              "119389           Check-Out              2017-09-07  \n",
              "\n",
              "[119390 rows x 32 columns]"
            ],
            "text/html": [
              "\n",
              "\n",
              "  <div id=\"df-1687c8c0-3abe-44a0-801e-99d5924e3899\">\n",
              "    <div class=\"colab-df-container\">\n",
              "      <div>\n",
              "<style scoped>\n",
              "    .dataframe tbody tr th:only-of-type {\n",
              "        vertical-align: middle;\n",
              "    }\n",
              "\n",
              "    .dataframe tbody tr th {\n",
              "        vertical-align: top;\n",
              "    }\n",
              "\n",
              "    .dataframe thead th {\n",
              "        text-align: right;\n",
              "    }\n",
              "</style>\n",
              "<table border=\"1\" class=\"dataframe\">\n",
              "  <thead>\n",
              "    <tr style=\"text-align: right;\">\n",
              "      <th></th>\n",
              "      <th>hotel</th>\n",
              "      <th>is_canceled</th>\n",
              "      <th>lead_time</th>\n",
              "      <th>arrival_date_year</th>\n",
              "      <th>arrival_date_month</th>\n",
              "      <th>arrival_date_week_number</th>\n",
              "      <th>arrival_date_day_of_month</th>\n",
              "      <th>stays_in_weekend_nights</th>\n",
              "      <th>stays_in_week_nights</th>\n",
              "      <th>adults</th>\n",
              "      <th>...</th>\n",
              "      <th>deposit_type</th>\n",
              "      <th>agent</th>\n",
              "      <th>company</th>\n",
              "      <th>days_in_waiting_list</th>\n",
              "      <th>customer_type</th>\n",
              "      <th>adr</th>\n",
              "      <th>required_car_parking_spaces</th>\n",
              "      <th>total_of_special_requests</th>\n",
              "      <th>reservation_status</th>\n",
              "      <th>reservation_status_date</th>\n",
              "    </tr>\n",
              "  </thead>\n",
              "  <tbody>\n",
              "    <tr>\n",
              "      <th>0</th>\n",
              "      <td>Resort Hotel</td>\n",
              "      <td>0</td>\n",
              "      <td>342</td>\n",
              "      <td>2015</td>\n",
              "      <td>July</td>\n",
              "      <td>27</td>\n",
              "      <td>1</td>\n",
              "      <td>0</td>\n",
              "      <td>0</td>\n",
              "      <td>2</td>\n",
              "      <td>...</td>\n",
              "      <td>No Deposit</td>\n",
              "      <td>NaN</td>\n",
              "      <td>NaN</td>\n",
              "      <td>0</td>\n",
              "      <td>Transient</td>\n",
              "      <td>0.00</td>\n",
              "      <td>0</td>\n",
              "      <td>0</td>\n",
              "      <td>Check-Out</td>\n",
              "      <td>2015-07-01</td>\n",
              "    </tr>\n",
              "    <tr>\n",
              "      <th>1</th>\n",
              "      <td>Resort Hotel</td>\n",
              "      <td>0</td>\n",
              "      <td>737</td>\n",
              "      <td>2015</td>\n",
              "      <td>July</td>\n",
              "      <td>27</td>\n",
              "      <td>1</td>\n",
              "      <td>0</td>\n",
              "      <td>0</td>\n",
              "      <td>2</td>\n",
              "      <td>...</td>\n",
              "      <td>No Deposit</td>\n",
              "      <td>NaN</td>\n",
              "      <td>NaN</td>\n",
              "      <td>0</td>\n",
              "      <td>Transient</td>\n",
              "      <td>0.00</td>\n",
              "      <td>0</td>\n",
              "      <td>0</td>\n",
              "      <td>Check-Out</td>\n",
              "      <td>2015-07-01</td>\n",
              "    </tr>\n",
              "    <tr>\n",
              "      <th>2</th>\n",
              "      <td>Resort Hotel</td>\n",
              "      <td>0</td>\n",
              "      <td>7</td>\n",
              "      <td>2015</td>\n",
              "      <td>July</td>\n",
              "      <td>27</td>\n",
              "      <td>1</td>\n",
              "      <td>0</td>\n",
              "      <td>1</td>\n",
              "      <td>1</td>\n",
              "      <td>...</td>\n",
              "      <td>No Deposit</td>\n",
              "      <td>NaN</td>\n",
              "      <td>NaN</td>\n",
              "      <td>0</td>\n",
              "      <td>Transient</td>\n",
              "      <td>75.00</td>\n",
              "      <td>0</td>\n",
              "      <td>0</td>\n",
              "      <td>Check-Out</td>\n",
              "      <td>2015-07-02</td>\n",
              "    </tr>\n",
              "    <tr>\n",
              "      <th>3</th>\n",
              "      <td>Resort Hotel</td>\n",
              "      <td>0</td>\n",
              "      <td>13</td>\n",
              "      <td>2015</td>\n",
              "      <td>July</td>\n",
              "      <td>27</td>\n",
              "      <td>1</td>\n",
              "      <td>0</td>\n",
              "      <td>1</td>\n",
              "      <td>1</td>\n",
              "      <td>...</td>\n",
              "      <td>No Deposit</td>\n",
              "      <td>304.0</td>\n",
              "      <td>NaN</td>\n",
              "      <td>0</td>\n",
              "      <td>Transient</td>\n",
              "      <td>75.00</td>\n",
              "      <td>0</td>\n",
              "      <td>0</td>\n",
              "      <td>Check-Out</td>\n",
              "      <td>2015-07-02</td>\n",
              "    </tr>\n",
              "    <tr>\n",
              "      <th>4</th>\n",
              "      <td>Resort Hotel</td>\n",
              "      <td>0</td>\n",
              "      <td>14</td>\n",
              "      <td>2015</td>\n",
              "      <td>July</td>\n",
              "      <td>27</td>\n",
              "      <td>1</td>\n",
              "      <td>0</td>\n",
              "      <td>2</td>\n",
              "      <td>2</td>\n",
              "      <td>...</td>\n",
              "      <td>No Deposit</td>\n",
              "      <td>240.0</td>\n",
              "      <td>NaN</td>\n",
              "      <td>0</td>\n",
              "      <td>Transient</td>\n",
              "      <td>98.00</td>\n",
              "      <td>0</td>\n",
              "      <td>1</td>\n",
              "      <td>Check-Out</td>\n",
              "      <td>2015-07-03</td>\n",
              "    </tr>\n",
              "    <tr>\n",
              "      <th>...</th>\n",
              "      <td>...</td>\n",
              "      <td>...</td>\n",
              "      <td>...</td>\n",
              "      <td>...</td>\n",
              "      <td>...</td>\n",
              "      <td>...</td>\n",
              "      <td>...</td>\n",
              "      <td>...</td>\n",
              "      <td>...</td>\n",
              "      <td>...</td>\n",
              "      <td>...</td>\n",
              "      <td>...</td>\n",
              "      <td>...</td>\n",
              "      <td>...</td>\n",
              "      <td>...</td>\n",
              "      <td>...</td>\n",
              "      <td>...</td>\n",
              "      <td>...</td>\n",
              "      <td>...</td>\n",
              "      <td>...</td>\n",
              "      <td>...</td>\n",
              "    </tr>\n",
              "    <tr>\n",
              "      <th>119385</th>\n",
              "      <td>City Hotel</td>\n",
              "      <td>0</td>\n",
              "      <td>23</td>\n",
              "      <td>2017</td>\n",
              "      <td>August</td>\n",
              "      <td>35</td>\n",
              "      <td>30</td>\n",
              "      <td>2</td>\n",
              "      <td>5</td>\n",
              "      <td>2</td>\n",
              "      <td>...</td>\n",
              "      <td>No Deposit</td>\n",
              "      <td>394.0</td>\n",
              "      <td>NaN</td>\n",
              "      <td>0</td>\n",
              "      <td>Transient</td>\n",
              "      <td>96.14</td>\n",
              "      <td>0</td>\n",
              "      <td>0</td>\n",
              "      <td>Check-Out</td>\n",
              "      <td>2017-09-06</td>\n",
              "    </tr>\n",
              "    <tr>\n",
              "      <th>119386</th>\n",
              "      <td>City Hotel</td>\n",
              "      <td>0</td>\n",
              "      <td>102</td>\n",
              "      <td>2017</td>\n",
              "      <td>August</td>\n",
              "      <td>35</td>\n",
              "      <td>31</td>\n",
              "      <td>2</td>\n",
              "      <td>5</td>\n",
              "      <td>3</td>\n",
              "      <td>...</td>\n",
              "      <td>No Deposit</td>\n",
              "      <td>9.0</td>\n",
              "      <td>NaN</td>\n",
              "      <td>0</td>\n",
              "      <td>Transient</td>\n",
              "      <td>225.43</td>\n",
              "      <td>0</td>\n",
              "      <td>2</td>\n",
              "      <td>Check-Out</td>\n",
              "      <td>2017-09-07</td>\n",
              "    </tr>\n",
              "    <tr>\n",
              "      <th>119387</th>\n",
              "      <td>City Hotel</td>\n",
              "      <td>0</td>\n",
              "      <td>34</td>\n",
              "      <td>2017</td>\n",
              "      <td>August</td>\n",
              "      <td>35</td>\n",
              "      <td>31</td>\n",
              "      <td>2</td>\n",
              "      <td>5</td>\n",
              "      <td>2</td>\n",
              "      <td>...</td>\n",
              "      <td>No Deposit</td>\n",
              "      <td>9.0</td>\n",
              "      <td>NaN</td>\n",
              "      <td>0</td>\n",
              "      <td>Transient</td>\n",
              "      <td>157.71</td>\n",
              "      <td>0</td>\n",
              "      <td>4</td>\n",
              "      <td>Check-Out</td>\n",
              "      <td>2017-09-07</td>\n",
              "    </tr>\n",
              "    <tr>\n",
              "      <th>119388</th>\n",
              "      <td>City Hotel</td>\n",
              "      <td>0</td>\n",
              "      <td>109</td>\n",
              "      <td>2017</td>\n",
              "      <td>August</td>\n",
              "      <td>35</td>\n",
              "      <td>31</td>\n",
              "      <td>2</td>\n",
              "      <td>5</td>\n",
              "      <td>2</td>\n",
              "      <td>...</td>\n",
              "      <td>No Deposit</td>\n",
              "      <td>89.0</td>\n",
              "      <td>NaN</td>\n",
              "      <td>0</td>\n",
              "      <td>Transient</td>\n",
              "      <td>104.40</td>\n",
              "      <td>0</td>\n",
              "      <td>0</td>\n",
              "      <td>Check-Out</td>\n",
              "      <td>2017-09-07</td>\n",
              "    </tr>\n",
              "    <tr>\n",
              "      <th>119389</th>\n",
              "      <td>City Hotel</td>\n",
              "      <td>0</td>\n",
              "      <td>205</td>\n",
              "      <td>2017</td>\n",
              "      <td>August</td>\n",
              "      <td>35</td>\n",
              "      <td>29</td>\n",
              "      <td>2</td>\n",
              "      <td>7</td>\n",
              "      <td>2</td>\n",
              "      <td>...</td>\n",
              "      <td>No Deposit</td>\n",
              "      <td>9.0</td>\n",
              "      <td>NaN</td>\n",
              "      <td>0</td>\n",
              "      <td>Transient</td>\n",
              "      <td>151.20</td>\n",
              "      <td>0</td>\n",
              "      <td>2</td>\n",
              "      <td>Check-Out</td>\n",
              "      <td>2017-09-07</td>\n",
              "    </tr>\n",
              "  </tbody>\n",
              "</table>\n",
              "<p>119390 rows × 32 columns</p>\n",
              "</div>\n",
              "      <button class=\"colab-df-convert\" onclick=\"convertToInteractive('df-1687c8c0-3abe-44a0-801e-99d5924e3899')\"\n",
              "              title=\"Convert this dataframe to an interactive table.\"\n",
              "              style=\"display:none;\">\n",
              "\n",
              "  <svg xmlns=\"http://www.w3.org/2000/svg\" height=\"24px\"viewBox=\"0 0 24 24\"\n",
              "       width=\"24px\">\n",
              "    <path d=\"M0 0h24v24H0V0z\" fill=\"none\"/>\n",
              "    <path d=\"M18.56 5.44l.94 2.06.94-2.06 2.06-.94-2.06-.94-.94-2.06-.94 2.06-2.06.94zm-11 1L8.5 8.5l.94-2.06 2.06-.94-2.06-.94L8.5 2.5l-.94 2.06-2.06.94zm10 10l.94 2.06.94-2.06 2.06-.94-2.06-.94-.94-2.06-.94 2.06-2.06.94z\"/><path d=\"M17.41 7.96l-1.37-1.37c-.4-.4-.92-.59-1.43-.59-.52 0-1.04.2-1.43.59L10.3 9.45l-7.72 7.72c-.78.78-.78 2.05 0 2.83L4 21.41c.39.39.9.59 1.41.59.51 0 1.02-.2 1.41-.59l7.78-7.78 2.81-2.81c.8-.78.8-2.07 0-2.86zM5.41 20L4 18.59l7.72-7.72 1.47 1.35L5.41 20z\"/>\n",
              "  </svg>\n",
              "      </button>\n",
              "\n",
              "\n",
              "\n",
              "    <div id=\"df-c98d8261-9598-4848-b895-6ef13840b6a0\">\n",
              "      <button class=\"colab-df-quickchart\" onclick=\"quickchart('df-c98d8261-9598-4848-b895-6ef13840b6a0')\"\n",
              "              title=\"Suggest charts.\"\n",
              "              style=\"display:none;\">\n",
              "\n",
              "<svg xmlns=\"http://www.w3.org/2000/svg\" height=\"24px\"viewBox=\"0 0 24 24\"\n",
              "     width=\"24px\">\n",
              "    <g>\n",
              "        <path d=\"M19 3H5c-1.1 0-2 .9-2 2v14c0 1.1.9 2 2 2h14c1.1 0 2-.9 2-2V5c0-1.1-.9-2-2-2zM9 17H7v-7h2v7zm4 0h-2V7h2v10zm4 0h-2v-4h2v4z\"/>\n",
              "    </g>\n",
              "</svg>\n",
              "      </button>\n",
              "    </div>\n",
              "\n",
              "<style>\n",
              "  .colab-df-quickchart {\n",
              "    background-color: #E8F0FE;\n",
              "    border: none;\n",
              "    border-radius: 50%;\n",
              "    cursor: pointer;\n",
              "    display: none;\n",
              "    fill: #1967D2;\n",
              "    height: 32px;\n",
              "    padding: 0 0 0 0;\n",
              "    width: 32px;\n",
              "  }\n",
              "\n",
              "  .colab-df-quickchart:hover {\n",
              "    background-color: #E2EBFA;\n",
              "    box-shadow: 0px 1px 2px rgba(60, 64, 67, 0.3), 0px 1px 3px 1px rgba(60, 64, 67, 0.15);\n",
              "    fill: #174EA6;\n",
              "  }\n",
              "\n",
              "  [theme=dark] .colab-df-quickchart {\n",
              "    background-color: #3B4455;\n",
              "    fill: #D2E3FC;\n",
              "  }\n",
              "\n",
              "  [theme=dark] .colab-df-quickchart:hover {\n",
              "    background-color: #434B5C;\n",
              "    box-shadow: 0px 1px 3px 1px rgba(0, 0, 0, 0.15);\n",
              "    filter: drop-shadow(0px 1px 2px rgba(0, 0, 0, 0.3));\n",
              "    fill: #FFFFFF;\n",
              "  }\n",
              "</style>\n",
              "\n",
              "    <script>\n",
              "      async function quickchart(key) {\n",
              "        const containerElement = document.querySelector('#' + key);\n",
              "        const charts = await google.colab.kernel.invokeFunction(\n",
              "            'suggestCharts', [key], {});\n",
              "      }\n",
              "    </script>\n",
              "\n",
              "      <script>\n",
              "\n",
              "function displayQuickchartButton(domScope) {\n",
              "  let quickchartButtonEl =\n",
              "    domScope.querySelector('#df-c98d8261-9598-4848-b895-6ef13840b6a0 button.colab-df-quickchart');\n",
              "  quickchartButtonEl.style.display =\n",
              "    google.colab.kernel.accessAllowed ? 'block' : 'none';\n",
              "}\n",
              "\n",
              "        displayQuickchartButton(document);\n",
              "      </script>\n",
              "      <style>\n",
              "    .colab-df-container {\n",
              "      display:flex;\n",
              "      flex-wrap:wrap;\n",
              "      gap: 12px;\n",
              "    }\n",
              "\n",
              "    .colab-df-convert {\n",
              "      background-color: #E8F0FE;\n",
              "      border: none;\n",
              "      border-radius: 50%;\n",
              "      cursor: pointer;\n",
              "      display: none;\n",
              "      fill: #1967D2;\n",
              "      height: 32px;\n",
              "      padding: 0 0 0 0;\n",
              "      width: 32px;\n",
              "    }\n",
              "\n",
              "    .colab-df-convert:hover {\n",
              "      background-color: #E2EBFA;\n",
              "      box-shadow: 0px 1px 2px rgba(60, 64, 67, 0.3), 0px 1px 3px 1px rgba(60, 64, 67, 0.15);\n",
              "      fill: #174EA6;\n",
              "    }\n",
              "\n",
              "    [theme=dark] .colab-df-convert {\n",
              "      background-color: #3B4455;\n",
              "      fill: #D2E3FC;\n",
              "    }\n",
              "\n",
              "    [theme=dark] .colab-df-convert:hover {\n",
              "      background-color: #434B5C;\n",
              "      box-shadow: 0px 1px 3px 1px rgba(0, 0, 0, 0.15);\n",
              "      filter: drop-shadow(0px 1px 2px rgba(0, 0, 0, 0.3));\n",
              "      fill: #FFFFFF;\n",
              "    }\n",
              "  </style>\n",
              "\n",
              "      <script>\n",
              "        const buttonEl =\n",
              "          document.querySelector('#df-1687c8c0-3abe-44a0-801e-99d5924e3899 button.colab-df-convert');\n",
              "        buttonEl.style.display =\n",
              "          google.colab.kernel.accessAllowed ? 'block' : 'none';\n",
              "\n",
              "        async function convertToInteractive(key) {\n",
              "          const element = document.querySelector('#df-1687c8c0-3abe-44a0-801e-99d5924e3899');\n",
              "          const dataTable =\n",
              "            await google.colab.kernel.invokeFunction('convertToInteractive',\n",
              "                                                     [key], {});\n",
              "          if (!dataTable) return;\n",
              "\n",
              "          const docLinkHtml = 'Like what you see? Visit the ' +\n",
              "            '<a target=\"_blank\" href=https://colab.research.google.com/notebooks/data_table.ipynb>data table notebook</a>'\n",
              "            + ' to learn more about interactive tables.';\n",
              "          element.innerHTML = '';\n",
              "          dataTable['output_type'] = 'display_data';\n",
              "          await google.colab.output.renderOutput(dataTable, element);\n",
              "          const docLink = document.createElement('div');\n",
              "          docLink.innerHTML = docLinkHtml;\n",
              "          element.appendChild(docLink);\n",
              "        }\n",
              "      </script>\n",
              "    </div>\n",
              "  </div>\n"
            ]
          },
          "metadata": {},
          "execution_count": 6
        }
      ]
    },
    {
      "cell_type": "code",
      "source": [
        "#  by using this head() method we can get the first 5 rows (as default) but if we want to know more than 5 rows than we have to specify numbers of rows in parentheses.\n",
        "\n",
        "hotel_booking_analysis_df.head()\n"
      ],
      "metadata": {
        "colab": {
          "base_uri": "https://localhost:8080/",
          "height": 386
        },
        "id": "PiN9QWQi0AEY",
        "outputId": "86996fae-0f38-441a-856f-653a50c1c4b5"
      },
      "execution_count": 7,
      "outputs": [
        {
          "output_type": "execute_result",
          "data": {
            "text/plain": [
              "          hotel  is_canceled  lead_time  arrival_date_year arrival_date_month  \\\n",
              "0  Resort Hotel            0        342               2015               July   \n",
              "1  Resort Hotel            0        737               2015               July   \n",
              "2  Resort Hotel            0          7               2015               July   \n",
              "3  Resort Hotel            0         13               2015               July   \n",
              "4  Resort Hotel            0         14               2015               July   \n",
              "\n",
              "   arrival_date_week_number  arrival_date_day_of_month  \\\n",
              "0                        27                          1   \n",
              "1                        27                          1   \n",
              "2                        27                          1   \n",
              "3                        27                          1   \n",
              "4                        27                          1   \n",
              "\n",
              "   stays_in_weekend_nights  stays_in_week_nights  adults  ...  deposit_type  \\\n",
              "0                        0                     0       2  ...    No Deposit   \n",
              "1                        0                     0       2  ...    No Deposit   \n",
              "2                        0                     1       1  ...    No Deposit   \n",
              "3                        0                     1       1  ...    No Deposit   \n",
              "4                        0                     2       2  ...    No Deposit   \n",
              "\n",
              "   agent company days_in_waiting_list customer_type   adr  \\\n",
              "0    NaN     NaN                    0     Transient   0.0   \n",
              "1    NaN     NaN                    0     Transient   0.0   \n",
              "2    NaN     NaN                    0     Transient  75.0   \n",
              "3  304.0     NaN                    0     Transient  75.0   \n",
              "4  240.0     NaN                    0     Transient  98.0   \n",
              "\n",
              "   required_car_parking_spaces  total_of_special_requests  reservation_status  \\\n",
              "0                            0                          0           Check-Out   \n",
              "1                            0                          0           Check-Out   \n",
              "2                            0                          0           Check-Out   \n",
              "3                            0                          0           Check-Out   \n",
              "4                            0                          1           Check-Out   \n",
              "\n",
              "  reservation_status_date  \n",
              "0              2015-07-01  \n",
              "1              2015-07-01  \n",
              "2              2015-07-02  \n",
              "3              2015-07-02  \n",
              "4              2015-07-03  \n",
              "\n",
              "[5 rows x 32 columns]"
            ],
            "text/html": [
              "\n",
              "\n",
              "  <div id=\"df-9195ad4c-16d0-41b7-8514-3c02afb5d739\">\n",
              "    <div class=\"colab-df-container\">\n",
              "      <div>\n",
              "<style scoped>\n",
              "    .dataframe tbody tr th:only-of-type {\n",
              "        vertical-align: middle;\n",
              "    }\n",
              "\n",
              "    .dataframe tbody tr th {\n",
              "        vertical-align: top;\n",
              "    }\n",
              "\n",
              "    .dataframe thead th {\n",
              "        text-align: right;\n",
              "    }\n",
              "</style>\n",
              "<table border=\"1\" class=\"dataframe\">\n",
              "  <thead>\n",
              "    <tr style=\"text-align: right;\">\n",
              "      <th></th>\n",
              "      <th>hotel</th>\n",
              "      <th>is_canceled</th>\n",
              "      <th>lead_time</th>\n",
              "      <th>arrival_date_year</th>\n",
              "      <th>arrival_date_month</th>\n",
              "      <th>arrival_date_week_number</th>\n",
              "      <th>arrival_date_day_of_month</th>\n",
              "      <th>stays_in_weekend_nights</th>\n",
              "      <th>stays_in_week_nights</th>\n",
              "      <th>adults</th>\n",
              "      <th>...</th>\n",
              "      <th>deposit_type</th>\n",
              "      <th>agent</th>\n",
              "      <th>company</th>\n",
              "      <th>days_in_waiting_list</th>\n",
              "      <th>customer_type</th>\n",
              "      <th>adr</th>\n",
              "      <th>required_car_parking_spaces</th>\n",
              "      <th>total_of_special_requests</th>\n",
              "      <th>reservation_status</th>\n",
              "      <th>reservation_status_date</th>\n",
              "    </tr>\n",
              "  </thead>\n",
              "  <tbody>\n",
              "    <tr>\n",
              "      <th>0</th>\n",
              "      <td>Resort Hotel</td>\n",
              "      <td>0</td>\n",
              "      <td>342</td>\n",
              "      <td>2015</td>\n",
              "      <td>July</td>\n",
              "      <td>27</td>\n",
              "      <td>1</td>\n",
              "      <td>0</td>\n",
              "      <td>0</td>\n",
              "      <td>2</td>\n",
              "      <td>...</td>\n",
              "      <td>No Deposit</td>\n",
              "      <td>NaN</td>\n",
              "      <td>NaN</td>\n",
              "      <td>0</td>\n",
              "      <td>Transient</td>\n",
              "      <td>0.0</td>\n",
              "      <td>0</td>\n",
              "      <td>0</td>\n",
              "      <td>Check-Out</td>\n",
              "      <td>2015-07-01</td>\n",
              "    </tr>\n",
              "    <tr>\n",
              "      <th>1</th>\n",
              "      <td>Resort Hotel</td>\n",
              "      <td>0</td>\n",
              "      <td>737</td>\n",
              "      <td>2015</td>\n",
              "      <td>July</td>\n",
              "      <td>27</td>\n",
              "      <td>1</td>\n",
              "      <td>0</td>\n",
              "      <td>0</td>\n",
              "      <td>2</td>\n",
              "      <td>...</td>\n",
              "      <td>No Deposit</td>\n",
              "      <td>NaN</td>\n",
              "      <td>NaN</td>\n",
              "      <td>0</td>\n",
              "      <td>Transient</td>\n",
              "      <td>0.0</td>\n",
              "      <td>0</td>\n",
              "      <td>0</td>\n",
              "      <td>Check-Out</td>\n",
              "      <td>2015-07-01</td>\n",
              "    </tr>\n",
              "    <tr>\n",
              "      <th>2</th>\n",
              "      <td>Resort Hotel</td>\n",
              "      <td>0</td>\n",
              "      <td>7</td>\n",
              "      <td>2015</td>\n",
              "      <td>July</td>\n",
              "      <td>27</td>\n",
              "      <td>1</td>\n",
              "      <td>0</td>\n",
              "      <td>1</td>\n",
              "      <td>1</td>\n",
              "      <td>...</td>\n",
              "      <td>No Deposit</td>\n",
              "      <td>NaN</td>\n",
              "      <td>NaN</td>\n",
              "      <td>0</td>\n",
              "      <td>Transient</td>\n",
              "      <td>75.0</td>\n",
              "      <td>0</td>\n",
              "      <td>0</td>\n",
              "      <td>Check-Out</td>\n",
              "      <td>2015-07-02</td>\n",
              "    </tr>\n",
              "    <tr>\n",
              "      <th>3</th>\n",
              "      <td>Resort Hotel</td>\n",
              "      <td>0</td>\n",
              "      <td>13</td>\n",
              "      <td>2015</td>\n",
              "      <td>July</td>\n",
              "      <td>27</td>\n",
              "      <td>1</td>\n",
              "      <td>0</td>\n",
              "      <td>1</td>\n",
              "      <td>1</td>\n",
              "      <td>...</td>\n",
              "      <td>No Deposit</td>\n",
              "      <td>304.0</td>\n",
              "      <td>NaN</td>\n",
              "      <td>0</td>\n",
              "      <td>Transient</td>\n",
              "      <td>75.0</td>\n",
              "      <td>0</td>\n",
              "      <td>0</td>\n",
              "      <td>Check-Out</td>\n",
              "      <td>2015-07-02</td>\n",
              "    </tr>\n",
              "    <tr>\n",
              "      <th>4</th>\n",
              "      <td>Resort Hotel</td>\n",
              "      <td>0</td>\n",
              "      <td>14</td>\n",
              "      <td>2015</td>\n",
              "      <td>July</td>\n",
              "      <td>27</td>\n",
              "      <td>1</td>\n",
              "      <td>0</td>\n",
              "      <td>2</td>\n",
              "      <td>2</td>\n",
              "      <td>...</td>\n",
              "      <td>No Deposit</td>\n",
              "      <td>240.0</td>\n",
              "      <td>NaN</td>\n",
              "      <td>0</td>\n",
              "      <td>Transient</td>\n",
              "      <td>98.0</td>\n",
              "      <td>0</td>\n",
              "      <td>1</td>\n",
              "      <td>Check-Out</td>\n",
              "      <td>2015-07-03</td>\n",
              "    </tr>\n",
              "  </tbody>\n",
              "</table>\n",
              "<p>5 rows × 32 columns</p>\n",
              "</div>\n",
              "      <button class=\"colab-df-convert\" onclick=\"convertToInteractive('df-9195ad4c-16d0-41b7-8514-3c02afb5d739')\"\n",
              "              title=\"Convert this dataframe to an interactive table.\"\n",
              "              style=\"display:none;\">\n",
              "\n",
              "  <svg xmlns=\"http://www.w3.org/2000/svg\" height=\"24px\"viewBox=\"0 0 24 24\"\n",
              "       width=\"24px\">\n",
              "    <path d=\"M0 0h24v24H0V0z\" fill=\"none\"/>\n",
              "    <path d=\"M18.56 5.44l.94 2.06.94-2.06 2.06-.94-2.06-.94-.94-2.06-.94 2.06-2.06.94zm-11 1L8.5 8.5l.94-2.06 2.06-.94-2.06-.94L8.5 2.5l-.94 2.06-2.06.94zm10 10l.94 2.06.94-2.06 2.06-.94-2.06-.94-.94-2.06-.94 2.06-2.06.94z\"/><path d=\"M17.41 7.96l-1.37-1.37c-.4-.4-.92-.59-1.43-.59-.52 0-1.04.2-1.43.59L10.3 9.45l-7.72 7.72c-.78.78-.78 2.05 0 2.83L4 21.41c.39.39.9.59 1.41.59.51 0 1.02-.2 1.41-.59l7.78-7.78 2.81-2.81c.8-.78.8-2.07 0-2.86zM5.41 20L4 18.59l7.72-7.72 1.47 1.35L5.41 20z\"/>\n",
              "  </svg>\n",
              "      </button>\n",
              "\n",
              "\n",
              "\n",
              "    <div id=\"df-b01c2013-f784-480e-b7d6-a2f22cb56892\">\n",
              "      <button class=\"colab-df-quickchart\" onclick=\"quickchart('df-b01c2013-f784-480e-b7d6-a2f22cb56892')\"\n",
              "              title=\"Suggest charts.\"\n",
              "              style=\"display:none;\">\n",
              "\n",
              "<svg xmlns=\"http://www.w3.org/2000/svg\" height=\"24px\"viewBox=\"0 0 24 24\"\n",
              "     width=\"24px\">\n",
              "    <g>\n",
              "        <path d=\"M19 3H5c-1.1 0-2 .9-2 2v14c0 1.1.9 2 2 2h14c1.1 0 2-.9 2-2V5c0-1.1-.9-2-2-2zM9 17H7v-7h2v7zm4 0h-2V7h2v10zm4 0h-2v-4h2v4z\"/>\n",
              "    </g>\n",
              "</svg>\n",
              "      </button>\n",
              "    </div>\n",
              "\n",
              "<style>\n",
              "  .colab-df-quickchart {\n",
              "    background-color: #E8F0FE;\n",
              "    border: none;\n",
              "    border-radius: 50%;\n",
              "    cursor: pointer;\n",
              "    display: none;\n",
              "    fill: #1967D2;\n",
              "    height: 32px;\n",
              "    padding: 0 0 0 0;\n",
              "    width: 32px;\n",
              "  }\n",
              "\n",
              "  .colab-df-quickchart:hover {\n",
              "    background-color: #E2EBFA;\n",
              "    box-shadow: 0px 1px 2px rgba(60, 64, 67, 0.3), 0px 1px 3px 1px rgba(60, 64, 67, 0.15);\n",
              "    fill: #174EA6;\n",
              "  }\n",
              "\n",
              "  [theme=dark] .colab-df-quickchart {\n",
              "    background-color: #3B4455;\n",
              "    fill: #D2E3FC;\n",
              "  }\n",
              "\n",
              "  [theme=dark] .colab-df-quickchart:hover {\n",
              "    background-color: #434B5C;\n",
              "    box-shadow: 0px 1px 3px 1px rgba(0, 0, 0, 0.15);\n",
              "    filter: drop-shadow(0px 1px 2px rgba(0, 0, 0, 0.3));\n",
              "    fill: #FFFFFF;\n",
              "  }\n",
              "</style>\n",
              "\n",
              "    <script>\n",
              "      async function quickchart(key) {\n",
              "        const containerElement = document.querySelector('#' + key);\n",
              "        const charts = await google.colab.kernel.invokeFunction(\n",
              "            'suggestCharts', [key], {});\n",
              "      }\n",
              "    </script>\n",
              "\n",
              "      <script>\n",
              "\n",
              "function displayQuickchartButton(domScope) {\n",
              "  let quickchartButtonEl =\n",
              "    domScope.querySelector('#df-b01c2013-f784-480e-b7d6-a2f22cb56892 button.colab-df-quickchart');\n",
              "  quickchartButtonEl.style.display =\n",
              "    google.colab.kernel.accessAllowed ? 'block' : 'none';\n",
              "}\n",
              "\n",
              "        displayQuickchartButton(document);\n",
              "      </script>\n",
              "      <style>\n",
              "    .colab-df-container {\n",
              "      display:flex;\n",
              "      flex-wrap:wrap;\n",
              "      gap: 12px;\n",
              "    }\n",
              "\n",
              "    .colab-df-convert {\n",
              "      background-color: #E8F0FE;\n",
              "      border: none;\n",
              "      border-radius: 50%;\n",
              "      cursor: pointer;\n",
              "      display: none;\n",
              "      fill: #1967D2;\n",
              "      height: 32px;\n",
              "      padding: 0 0 0 0;\n",
              "      width: 32px;\n",
              "    }\n",
              "\n",
              "    .colab-df-convert:hover {\n",
              "      background-color: #E2EBFA;\n",
              "      box-shadow: 0px 1px 2px rgba(60, 64, 67, 0.3), 0px 1px 3px 1px rgba(60, 64, 67, 0.15);\n",
              "      fill: #174EA6;\n",
              "    }\n",
              "\n",
              "    [theme=dark] .colab-df-convert {\n",
              "      background-color: #3B4455;\n",
              "      fill: #D2E3FC;\n",
              "    }\n",
              "\n",
              "    [theme=dark] .colab-df-convert:hover {\n",
              "      background-color: #434B5C;\n",
              "      box-shadow: 0px 1px 3px 1px rgba(0, 0, 0, 0.15);\n",
              "      filter: drop-shadow(0px 1px 2px rgba(0, 0, 0, 0.3));\n",
              "      fill: #FFFFFF;\n",
              "    }\n",
              "  </style>\n",
              "\n",
              "      <script>\n",
              "        const buttonEl =\n",
              "          document.querySelector('#df-9195ad4c-16d0-41b7-8514-3c02afb5d739 button.colab-df-convert');\n",
              "        buttonEl.style.display =\n",
              "          google.colab.kernel.accessAllowed ? 'block' : 'none';\n",
              "\n",
              "        async function convertToInteractive(key) {\n",
              "          const element = document.querySelector('#df-9195ad4c-16d0-41b7-8514-3c02afb5d739');\n",
              "          const dataTable =\n",
              "            await google.colab.kernel.invokeFunction('convertToInteractive',\n",
              "                                                     [key], {});\n",
              "          if (!dataTable) return;\n",
              "\n",
              "          const docLinkHtml = 'Like what you see? Visit the ' +\n",
              "            '<a target=\"_blank\" href=https://colab.research.google.com/notebooks/data_table.ipynb>data table notebook</a>'\n",
              "            + ' to learn more about interactive tables.';\n",
              "          element.innerHTML = '';\n",
              "          dataTable['output_type'] = 'display_data';\n",
              "          await google.colab.output.renderOutput(dataTable, element);\n",
              "          const docLink = document.createElement('div');\n",
              "          docLink.innerHTML = docLinkHtml;\n",
              "          element.appendChild(docLink);\n",
              "        }\n",
              "      </script>\n",
              "    </div>\n",
              "  </div>\n"
            ]
          },
          "metadata": {},
          "execution_count": 7
        }
      ]
    },
    {
      "cell_type": "code",
      "source": [
        "# by using this tail() method we can get the last 5 rows (as default) but if we want to know more than 5 rows than we have to specify numbers of rows in parentheses.\n",
        "\n",
        "hotel_booking_analysis_df.tail()\n"
      ],
      "metadata": {
        "colab": {
          "base_uri": "https://localhost:8080/",
          "height": 386
        },
        "id": "iZRBN82m0EcJ",
        "outputId": "25b79298-35d7-416e-f43e-2cee305492aa"
      },
      "execution_count": 8,
      "outputs": [
        {
          "output_type": "execute_result",
          "data": {
            "text/plain": [
              "             hotel  is_canceled  lead_time  arrival_date_year  \\\n",
              "119385  City Hotel            0         23               2017   \n",
              "119386  City Hotel            0        102               2017   \n",
              "119387  City Hotel            0         34               2017   \n",
              "119388  City Hotel            0        109               2017   \n",
              "119389  City Hotel            0        205               2017   \n",
              "\n",
              "       arrival_date_month  arrival_date_week_number  \\\n",
              "119385             August                        35   \n",
              "119386             August                        35   \n",
              "119387             August                        35   \n",
              "119388             August                        35   \n",
              "119389             August                        35   \n",
              "\n",
              "        arrival_date_day_of_month  stays_in_weekend_nights  \\\n",
              "119385                         30                        2   \n",
              "119386                         31                        2   \n",
              "119387                         31                        2   \n",
              "119388                         31                        2   \n",
              "119389                         29                        2   \n",
              "\n",
              "        stays_in_week_nights  adults  ...  deposit_type  agent company  \\\n",
              "119385                     5       2  ...    No Deposit  394.0     NaN   \n",
              "119386                     5       3  ...    No Deposit    9.0     NaN   \n",
              "119387                     5       2  ...    No Deposit    9.0     NaN   \n",
              "119388                     5       2  ...    No Deposit   89.0     NaN   \n",
              "119389                     7       2  ...    No Deposit    9.0     NaN   \n",
              "\n",
              "       days_in_waiting_list customer_type     adr  \\\n",
              "119385                    0     Transient   96.14   \n",
              "119386                    0     Transient  225.43   \n",
              "119387                    0     Transient  157.71   \n",
              "119388                    0     Transient  104.40   \n",
              "119389                    0     Transient  151.20   \n",
              "\n",
              "        required_car_parking_spaces  total_of_special_requests  \\\n",
              "119385                            0                          0   \n",
              "119386                            0                          2   \n",
              "119387                            0                          4   \n",
              "119388                            0                          0   \n",
              "119389                            0                          2   \n",
              "\n",
              "        reservation_status reservation_status_date  \n",
              "119385           Check-Out              2017-09-06  \n",
              "119386           Check-Out              2017-09-07  \n",
              "119387           Check-Out              2017-09-07  \n",
              "119388           Check-Out              2017-09-07  \n",
              "119389           Check-Out              2017-09-07  \n",
              "\n",
              "[5 rows x 32 columns]"
            ],
            "text/html": [
              "\n",
              "\n",
              "  <div id=\"df-4c0cbbc3-4e2b-4036-82f5-2978920dbb72\">\n",
              "    <div class=\"colab-df-container\">\n",
              "      <div>\n",
              "<style scoped>\n",
              "    .dataframe tbody tr th:only-of-type {\n",
              "        vertical-align: middle;\n",
              "    }\n",
              "\n",
              "    .dataframe tbody tr th {\n",
              "        vertical-align: top;\n",
              "    }\n",
              "\n",
              "    .dataframe thead th {\n",
              "        text-align: right;\n",
              "    }\n",
              "</style>\n",
              "<table border=\"1\" class=\"dataframe\">\n",
              "  <thead>\n",
              "    <tr style=\"text-align: right;\">\n",
              "      <th></th>\n",
              "      <th>hotel</th>\n",
              "      <th>is_canceled</th>\n",
              "      <th>lead_time</th>\n",
              "      <th>arrival_date_year</th>\n",
              "      <th>arrival_date_month</th>\n",
              "      <th>arrival_date_week_number</th>\n",
              "      <th>arrival_date_day_of_month</th>\n",
              "      <th>stays_in_weekend_nights</th>\n",
              "      <th>stays_in_week_nights</th>\n",
              "      <th>adults</th>\n",
              "      <th>...</th>\n",
              "      <th>deposit_type</th>\n",
              "      <th>agent</th>\n",
              "      <th>company</th>\n",
              "      <th>days_in_waiting_list</th>\n",
              "      <th>customer_type</th>\n",
              "      <th>adr</th>\n",
              "      <th>required_car_parking_spaces</th>\n",
              "      <th>total_of_special_requests</th>\n",
              "      <th>reservation_status</th>\n",
              "      <th>reservation_status_date</th>\n",
              "    </tr>\n",
              "  </thead>\n",
              "  <tbody>\n",
              "    <tr>\n",
              "      <th>119385</th>\n",
              "      <td>City Hotel</td>\n",
              "      <td>0</td>\n",
              "      <td>23</td>\n",
              "      <td>2017</td>\n",
              "      <td>August</td>\n",
              "      <td>35</td>\n",
              "      <td>30</td>\n",
              "      <td>2</td>\n",
              "      <td>5</td>\n",
              "      <td>2</td>\n",
              "      <td>...</td>\n",
              "      <td>No Deposit</td>\n",
              "      <td>394.0</td>\n",
              "      <td>NaN</td>\n",
              "      <td>0</td>\n",
              "      <td>Transient</td>\n",
              "      <td>96.14</td>\n",
              "      <td>0</td>\n",
              "      <td>0</td>\n",
              "      <td>Check-Out</td>\n",
              "      <td>2017-09-06</td>\n",
              "    </tr>\n",
              "    <tr>\n",
              "      <th>119386</th>\n",
              "      <td>City Hotel</td>\n",
              "      <td>0</td>\n",
              "      <td>102</td>\n",
              "      <td>2017</td>\n",
              "      <td>August</td>\n",
              "      <td>35</td>\n",
              "      <td>31</td>\n",
              "      <td>2</td>\n",
              "      <td>5</td>\n",
              "      <td>3</td>\n",
              "      <td>...</td>\n",
              "      <td>No Deposit</td>\n",
              "      <td>9.0</td>\n",
              "      <td>NaN</td>\n",
              "      <td>0</td>\n",
              "      <td>Transient</td>\n",
              "      <td>225.43</td>\n",
              "      <td>0</td>\n",
              "      <td>2</td>\n",
              "      <td>Check-Out</td>\n",
              "      <td>2017-09-07</td>\n",
              "    </tr>\n",
              "    <tr>\n",
              "      <th>119387</th>\n",
              "      <td>City Hotel</td>\n",
              "      <td>0</td>\n",
              "      <td>34</td>\n",
              "      <td>2017</td>\n",
              "      <td>August</td>\n",
              "      <td>35</td>\n",
              "      <td>31</td>\n",
              "      <td>2</td>\n",
              "      <td>5</td>\n",
              "      <td>2</td>\n",
              "      <td>...</td>\n",
              "      <td>No Deposit</td>\n",
              "      <td>9.0</td>\n",
              "      <td>NaN</td>\n",
              "      <td>0</td>\n",
              "      <td>Transient</td>\n",
              "      <td>157.71</td>\n",
              "      <td>0</td>\n",
              "      <td>4</td>\n",
              "      <td>Check-Out</td>\n",
              "      <td>2017-09-07</td>\n",
              "    </tr>\n",
              "    <tr>\n",
              "      <th>119388</th>\n",
              "      <td>City Hotel</td>\n",
              "      <td>0</td>\n",
              "      <td>109</td>\n",
              "      <td>2017</td>\n",
              "      <td>August</td>\n",
              "      <td>35</td>\n",
              "      <td>31</td>\n",
              "      <td>2</td>\n",
              "      <td>5</td>\n",
              "      <td>2</td>\n",
              "      <td>...</td>\n",
              "      <td>No Deposit</td>\n",
              "      <td>89.0</td>\n",
              "      <td>NaN</td>\n",
              "      <td>0</td>\n",
              "      <td>Transient</td>\n",
              "      <td>104.40</td>\n",
              "      <td>0</td>\n",
              "      <td>0</td>\n",
              "      <td>Check-Out</td>\n",
              "      <td>2017-09-07</td>\n",
              "    </tr>\n",
              "    <tr>\n",
              "      <th>119389</th>\n",
              "      <td>City Hotel</td>\n",
              "      <td>0</td>\n",
              "      <td>205</td>\n",
              "      <td>2017</td>\n",
              "      <td>August</td>\n",
              "      <td>35</td>\n",
              "      <td>29</td>\n",
              "      <td>2</td>\n",
              "      <td>7</td>\n",
              "      <td>2</td>\n",
              "      <td>...</td>\n",
              "      <td>No Deposit</td>\n",
              "      <td>9.0</td>\n",
              "      <td>NaN</td>\n",
              "      <td>0</td>\n",
              "      <td>Transient</td>\n",
              "      <td>151.20</td>\n",
              "      <td>0</td>\n",
              "      <td>2</td>\n",
              "      <td>Check-Out</td>\n",
              "      <td>2017-09-07</td>\n",
              "    </tr>\n",
              "  </tbody>\n",
              "</table>\n",
              "<p>5 rows × 32 columns</p>\n",
              "</div>\n",
              "      <button class=\"colab-df-convert\" onclick=\"convertToInteractive('df-4c0cbbc3-4e2b-4036-82f5-2978920dbb72')\"\n",
              "              title=\"Convert this dataframe to an interactive table.\"\n",
              "              style=\"display:none;\">\n",
              "\n",
              "  <svg xmlns=\"http://www.w3.org/2000/svg\" height=\"24px\"viewBox=\"0 0 24 24\"\n",
              "       width=\"24px\">\n",
              "    <path d=\"M0 0h24v24H0V0z\" fill=\"none\"/>\n",
              "    <path d=\"M18.56 5.44l.94 2.06.94-2.06 2.06-.94-2.06-.94-.94-2.06-.94 2.06-2.06.94zm-11 1L8.5 8.5l.94-2.06 2.06-.94-2.06-.94L8.5 2.5l-.94 2.06-2.06.94zm10 10l.94 2.06.94-2.06 2.06-.94-2.06-.94-.94-2.06-.94 2.06-2.06.94z\"/><path d=\"M17.41 7.96l-1.37-1.37c-.4-.4-.92-.59-1.43-.59-.52 0-1.04.2-1.43.59L10.3 9.45l-7.72 7.72c-.78.78-.78 2.05 0 2.83L4 21.41c.39.39.9.59 1.41.59.51 0 1.02-.2 1.41-.59l7.78-7.78 2.81-2.81c.8-.78.8-2.07 0-2.86zM5.41 20L4 18.59l7.72-7.72 1.47 1.35L5.41 20z\"/>\n",
              "  </svg>\n",
              "      </button>\n",
              "\n",
              "\n",
              "\n",
              "    <div id=\"df-986fe7a7-6f54-422b-8bfd-992fc889ddce\">\n",
              "      <button class=\"colab-df-quickchart\" onclick=\"quickchart('df-986fe7a7-6f54-422b-8bfd-992fc889ddce')\"\n",
              "              title=\"Suggest charts.\"\n",
              "              style=\"display:none;\">\n",
              "\n",
              "<svg xmlns=\"http://www.w3.org/2000/svg\" height=\"24px\"viewBox=\"0 0 24 24\"\n",
              "     width=\"24px\">\n",
              "    <g>\n",
              "        <path d=\"M19 3H5c-1.1 0-2 .9-2 2v14c0 1.1.9 2 2 2h14c1.1 0 2-.9 2-2V5c0-1.1-.9-2-2-2zM9 17H7v-7h2v7zm4 0h-2V7h2v10zm4 0h-2v-4h2v4z\"/>\n",
              "    </g>\n",
              "</svg>\n",
              "      </button>\n",
              "    </div>\n",
              "\n",
              "<style>\n",
              "  .colab-df-quickchart {\n",
              "    background-color: #E8F0FE;\n",
              "    border: none;\n",
              "    border-radius: 50%;\n",
              "    cursor: pointer;\n",
              "    display: none;\n",
              "    fill: #1967D2;\n",
              "    height: 32px;\n",
              "    padding: 0 0 0 0;\n",
              "    width: 32px;\n",
              "  }\n",
              "\n",
              "  .colab-df-quickchart:hover {\n",
              "    background-color: #E2EBFA;\n",
              "    box-shadow: 0px 1px 2px rgba(60, 64, 67, 0.3), 0px 1px 3px 1px rgba(60, 64, 67, 0.15);\n",
              "    fill: #174EA6;\n",
              "  }\n",
              "\n",
              "  [theme=dark] .colab-df-quickchart {\n",
              "    background-color: #3B4455;\n",
              "    fill: #D2E3FC;\n",
              "  }\n",
              "\n",
              "  [theme=dark] .colab-df-quickchart:hover {\n",
              "    background-color: #434B5C;\n",
              "    box-shadow: 0px 1px 3px 1px rgba(0, 0, 0, 0.15);\n",
              "    filter: drop-shadow(0px 1px 2px rgba(0, 0, 0, 0.3));\n",
              "    fill: #FFFFFF;\n",
              "  }\n",
              "</style>\n",
              "\n",
              "    <script>\n",
              "      async function quickchart(key) {\n",
              "        const containerElement = document.querySelector('#' + key);\n",
              "        const charts = await google.colab.kernel.invokeFunction(\n",
              "            'suggestCharts', [key], {});\n",
              "      }\n",
              "    </script>\n",
              "\n",
              "      <script>\n",
              "\n",
              "function displayQuickchartButton(domScope) {\n",
              "  let quickchartButtonEl =\n",
              "    domScope.querySelector('#df-986fe7a7-6f54-422b-8bfd-992fc889ddce button.colab-df-quickchart');\n",
              "  quickchartButtonEl.style.display =\n",
              "    google.colab.kernel.accessAllowed ? 'block' : 'none';\n",
              "}\n",
              "\n",
              "        displayQuickchartButton(document);\n",
              "      </script>\n",
              "      <style>\n",
              "    .colab-df-container {\n",
              "      display:flex;\n",
              "      flex-wrap:wrap;\n",
              "      gap: 12px;\n",
              "    }\n",
              "\n",
              "    .colab-df-convert {\n",
              "      background-color: #E8F0FE;\n",
              "      border: none;\n",
              "      border-radius: 50%;\n",
              "      cursor: pointer;\n",
              "      display: none;\n",
              "      fill: #1967D2;\n",
              "      height: 32px;\n",
              "      padding: 0 0 0 0;\n",
              "      width: 32px;\n",
              "    }\n",
              "\n",
              "    .colab-df-convert:hover {\n",
              "      background-color: #E2EBFA;\n",
              "      box-shadow: 0px 1px 2px rgba(60, 64, 67, 0.3), 0px 1px 3px 1px rgba(60, 64, 67, 0.15);\n",
              "      fill: #174EA6;\n",
              "    }\n",
              "\n",
              "    [theme=dark] .colab-df-convert {\n",
              "      background-color: #3B4455;\n",
              "      fill: #D2E3FC;\n",
              "    }\n",
              "\n",
              "    [theme=dark] .colab-df-convert:hover {\n",
              "      background-color: #434B5C;\n",
              "      box-shadow: 0px 1px 3px 1px rgba(0, 0, 0, 0.15);\n",
              "      filter: drop-shadow(0px 1px 2px rgba(0, 0, 0, 0.3));\n",
              "      fill: #FFFFFF;\n",
              "    }\n",
              "  </style>\n",
              "\n",
              "      <script>\n",
              "        const buttonEl =\n",
              "          document.querySelector('#df-4c0cbbc3-4e2b-4036-82f5-2978920dbb72 button.colab-df-convert');\n",
              "        buttonEl.style.display =\n",
              "          google.colab.kernel.accessAllowed ? 'block' : 'none';\n",
              "\n",
              "        async function convertToInteractive(key) {\n",
              "          const element = document.querySelector('#df-4c0cbbc3-4e2b-4036-82f5-2978920dbb72');\n",
              "          const dataTable =\n",
              "            await google.colab.kernel.invokeFunction('convertToInteractive',\n",
              "                                                     [key], {});\n",
              "          if (!dataTable) return;\n",
              "\n",
              "          const docLinkHtml = 'Like what you see? Visit the ' +\n",
              "            '<a target=\"_blank\" href=https://colab.research.google.com/notebooks/data_table.ipynb>data table notebook</a>'\n",
              "            + ' to learn more about interactive tables.';\n",
              "          element.innerHTML = '';\n",
              "          dataTable['output_type'] = 'display_data';\n",
              "          await google.colab.output.renderOutput(dataTable, element);\n",
              "          const docLink = document.createElement('div');\n",
              "          docLink.innerHTML = docLinkHtml;\n",
              "          element.appendChild(docLink);\n",
              "        }\n",
              "      </script>\n",
              "    </div>\n",
              "  </div>\n"
            ]
          },
          "metadata": {},
          "execution_count": 8
        }
      ]
    },
    {
      "cell_type": "markdown",
      "source": [
        "### Dataset Rows & Columns count"
      ],
      "metadata": {
        "id": "7hBIi_osiCS2"
      }
    },
    {
      "cell_type": "code",
      "source": [
        "# Dataset Rows & Columns count\n",
        "\n",
        "\n",
        "hotel_booking_analysis_df.shape\n"
      ],
      "metadata": {
        "id": "Kllu7SJgmLij",
        "colab": {
          "base_uri": "https://localhost:8080/"
        },
        "outputId": "9b675373-0e8f-4832-b2fd-0a1ca7fbd8ce"
      },
      "execution_count": 9,
      "outputs": [
        {
          "output_type": "execute_result",
          "data": {
            "text/plain": [
              "(119390, 32)"
            ]
          },
          "metadata": {},
          "execution_count": 9
        }
      ]
    },
    {
      "cell_type": "code",
      "source": [
        "print(hotel_booking_analysis_df.index)\n",
        "print('/n')\n",
        "print(hotel_booking_analysis_df.columns)"
      ],
      "metadata": {
        "colab": {
          "base_uri": "https://localhost:8080/"
        },
        "id": "iB2DtgxR0wtQ",
        "outputId": "f46ae2ee-7515-4915-a4d5-6712830c37b0"
      },
      "execution_count": 10,
      "outputs": [
        {
          "output_type": "stream",
          "name": "stdout",
          "text": [
            "RangeIndex(start=0, stop=119390, step=1)\n",
            "/n\n",
            "Index(['hotel', 'is_canceled', 'lead_time', 'arrival_date_year',\n",
            "       'arrival_date_month', 'arrival_date_week_number',\n",
            "       'arrival_date_day_of_month', 'stays_in_weekend_nights',\n",
            "       'stays_in_week_nights', 'adults', 'children', 'babies', 'meal',\n",
            "       'country', 'market_segment', 'distribution_channel',\n",
            "       'is_repeated_guest', 'previous_cancellations',\n",
            "       'previous_bookings_not_canceled', 'reserved_room_type',\n",
            "       'assigned_room_type', 'booking_changes', 'deposit_type', 'agent',\n",
            "       'company', 'days_in_waiting_list', 'customer_type', 'adr',\n",
            "       'required_car_parking_spaces', 'total_of_special_requests',\n",
            "       'reservation_status', 'reservation_status_date'],\n",
            "      dtype='object')\n"
          ]
        }
      ]
    },
    {
      "cell_type": "markdown",
      "source": [
        "### Dataset Information"
      ],
      "metadata": {
        "id": "JlHwYmJAmNHm"
      }
    },
    {
      "cell_type": "code",
      "source": [
        "# Dataset Info\n",
        "\n",
        "hotel_booking_analysis_df.info()"
      ],
      "metadata": {
        "id": "e9hRXRi6meOf",
        "colab": {
          "base_uri": "https://localhost:8080/"
        },
        "outputId": "3b2c7e2f-8f84-4cbd-9334-a63e15fc796f"
      },
      "execution_count": 11,
      "outputs": [
        {
          "output_type": "stream",
          "name": "stdout",
          "text": [
            "<class 'pandas.core.frame.DataFrame'>\n",
            "RangeIndex: 119390 entries, 0 to 119389\n",
            "Data columns (total 32 columns):\n",
            " #   Column                          Non-Null Count   Dtype  \n",
            "---  ------                          --------------   -----  \n",
            " 0   hotel                           119390 non-null  object \n",
            " 1   is_canceled                     119390 non-null  int64  \n",
            " 2   lead_time                       119390 non-null  int64  \n",
            " 3   arrival_date_year               119390 non-null  int64  \n",
            " 4   arrival_date_month              119390 non-null  object \n",
            " 5   arrival_date_week_number        119390 non-null  int64  \n",
            " 6   arrival_date_day_of_month       119390 non-null  int64  \n",
            " 7   stays_in_weekend_nights         119390 non-null  int64  \n",
            " 8   stays_in_week_nights            119390 non-null  int64  \n",
            " 9   adults                          119390 non-null  int64  \n",
            " 10  children                        119386 non-null  float64\n",
            " 11  babies                          119390 non-null  int64  \n",
            " 12  meal                            119390 non-null  object \n",
            " 13  country                         118902 non-null  object \n",
            " 14  market_segment                  119390 non-null  object \n",
            " 15  distribution_channel            119390 non-null  object \n",
            " 16  is_repeated_guest               119390 non-null  int64  \n",
            " 17  previous_cancellations          119390 non-null  int64  \n",
            " 18  previous_bookings_not_canceled  119390 non-null  int64  \n",
            " 19  reserved_room_type              119390 non-null  object \n",
            " 20  assigned_room_type              119390 non-null  object \n",
            " 21  booking_changes                 119390 non-null  int64  \n",
            " 22  deposit_type                    119390 non-null  object \n",
            " 23  agent                           103050 non-null  float64\n",
            " 24  company                         6797 non-null    float64\n",
            " 25  days_in_waiting_list            119390 non-null  int64  \n",
            " 26  customer_type                   119390 non-null  object \n",
            " 27  adr                             119390 non-null  float64\n",
            " 28  required_car_parking_spaces     119390 non-null  int64  \n",
            " 29  total_of_special_requests       119390 non-null  int64  \n",
            " 30  reservation_status              119390 non-null  object \n",
            " 31  reservation_status_date         119390 non-null  object \n",
            "dtypes: float64(4), int64(16), object(12)\n",
            "memory usage: 29.1+ MB\n"
          ]
        }
      ]
    },
    {
      "cell_type": "markdown",
      "source": [
        "#### Duplicate Values"
      ],
      "metadata": {
        "id": "35m5QtbWiB9F"
      }
    },
    {
      "cell_type": "code",
      "source": [
        "# Dataset Duplicate Value Count\n",
        "\n",
        "hotel_booking_analysis_df.drop_duplicates(inplace = True) # here we remove/delete duplicate values by using drop_duplicate.\n",
        "unique_count_of_rows = hotel_booking_analysis_df.shape[0]\n",
        "\n",
        "unique_count_of_rows\n"
      ],
      "metadata": {
        "id": "1sLdpKYkmox0",
        "colab": {
          "base_uri": "https://localhost:8080/"
        },
        "outputId": "95c2df28-83ae-4b78-953d-e1637141fbdf"
      },
      "execution_count": 12,
      "outputs": [
        {
          "output_type": "execute_result",
          "data": {
            "text/plain": [
              "87396"
            ]
          },
          "metadata": {},
          "execution_count": 12
        }
      ]
    },
    {
      "cell_type": "markdown",
      "source": [
        "**first there were 119390 rows but now there is 87396 rows it means 31,994 rows were duplicates**"
      ],
      "metadata": {
        "id": "h3t4DXPq18sO"
      }
    },
    {
      "cell_type": "code",
      "source": [
        "# unique or updated dataset after removing duplicate rows.\n",
        "\n",
        "hotel_booking_analysis_df.reset_index()"
      ],
      "metadata": {
        "colab": {
          "base_uri": "https://localhost:8080/",
          "height": 661
        },
        "id": "NhXFynfW2CSo",
        "outputId": "2aea40d3-85ab-4573-caf4-7d455959ba68"
      },
      "execution_count": 13,
      "outputs": [
        {
          "output_type": "execute_result",
          "data": {
            "text/plain": [
              "        index         hotel  is_canceled  lead_time  arrival_date_year  \\\n",
              "0           0  Resort Hotel            0        342               2015   \n",
              "1           1  Resort Hotel            0        737               2015   \n",
              "2           2  Resort Hotel            0          7               2015   \n",
              "3           3  Resort Hotel            0         13               2015   \n",
              "4           4  Resort Hotel            0         14               2015   \n",
              "...       ...           ...          ...        ...                ...   \n",
              "87391  119385    City Hotel            0         23               2017   \n",
              "87392  119386    City Hotel            0        102               2017   \n",
              "87393  119387    City Hotel            0         34               2017   \n",
              "87394  119388    City Hotel            0        109               2017   \n",
              "87395  119389    City Hotel            0        205               2017   \n",
              "\n",
              "      arrival_date_month  arrival_date_week_number  arrival_date_day_of_month  \\\n",
              "0                   July                        27                          1   \n",
              "1                   July                        27                          1   \n",
              "2                   July                        27                          1   \n",
              "3                   July                        27                          1   \n",
              "4                   July                        27                          1   \n",
              "...                  ...                       ...                        ...   \n",
              "87391             August                        35                         30   \n",
              "87392             August                        35                         31   \n",
              "87393             August                        35                         31   \n",
              "87394             August                        35                         31   \n",
              "87395             August                        35                         29   \n",
              "\n",
              "       stays_in_weekend_nights  stays_in_week_nights  ...  deposit_type  \\\n",
              "0                            0                     0  ...    No Deposit   \n",
              "1                            0                     0  ...    No Deposit   \n",
              "2                            0                     1  ...    No Deposit   \n",
              "3                            0                     1  ...    No Deposit   \n",
              "4                            0                     2  ...    No Deposit   \n",
              "...                        ...                   ...  ...           ...   \n",
              "87391                        2                     5  ...    No Deposit   \n",
              "87392                        2                     5  ...    No Deposit   \n",
              "87393                        2                     5  ...    No Deposit   \n",
              "87394                        2                     5  ...    No Deposit   \n",
              "87395                        2                     7  ...    No Deposit   \n",
              "\n",
              "       agent  company days_in_waiting_list customer_type     adr  \\\n",
              "0        NaN      NaN                    0     Transient    0.00   \n",
              "1        NaN      NaN                    0     Transient    0.00   \n",
              "2        NaN      NaN                    0     Transient   75.00   \n",
              "3      304.0      NaN                    0     Transient   75.00   \n",
              "4      240.0      NaN                    0     Transient   98.00   \n",
              "...      ...      ...                  ...           ...     ...   \n",
              "87391  394.0      NaN                    0     Transient   96.14   \n",
              "87392    9.0      NaN                    0     Transient  225.43   \n",
              "87393    9.0      NaN                    0     Transient  157.71   \n",
              "87394   89.0      NaN                    0     Transient  104.40   \n",
              "87395    9.0      NaN                    0     Transient  151.20   \n",
              "\n",
              "      required_car_parking_spaces  total_of_special_requests  \\\n",
              "0                               0                          0   \n",
              "1                               0                          0   \n",
              "2                               0                          0   \n",
              "3                               0                          0   \n",
              "4                               0                          1   \n",
              "...                           ...                        ...   \n",
              "87391                           0                          0   \n",
              "87392                           0                          2   \n",
              "87393                           0                          4   \n",
              "87394                           0                          0   \n",
              "87395                           0                          2   \n",
              "\n",
              "       reservation_status  reservation_status_date  \n",
              "0               Check-Out               2015-07-01  \n",
              "1               Check-Out               2015-07-01  \n",
              "2               Check-Out               2015-07-02  \n",
              "3               Check-Out               2015-07-02  \n",
              "4               Check-Out               2015-07-03  \n",
              "...                   ...                      ...  \n",
              "87391           Check-Out               2017-09-06  \n",
              "87392           Check-Out               2017-09-07  \n",
              "87393           Check-Out               2017-09-07  \n",
              "87394           Check-Out               2017-09-07  \n",
              "87395           Check-Out               2017-09-07  \n",
              "\n",
              "[87396 rows x 33 columns]"
            ],
            "text/html": [
              "\n",
              "\n",
              "  <div id=\"df-2096ee5a-dc2d-4735-a29b-8e515c51a389\">\n",
              "    <div class=\"colab-df-container\">\n",
              "      <div>\n",
              "<style scoped>\n",
              "    .dataframe tbody tr th:only-of-type {\n",
              "        vertical-align: middle;\n",
              "    }\n",
              "\n",
              "    .dataframe tbody tr th {\n",
              "        vertical-align: top;\n",
              "    }\n",
              "\n",
              "    .dataframe thead th {\n",
              "        text-align: right;\n",
              "    }\n",
              "</style>\n",
              "<table border=\"1\" class=\"dataframe\">\n",
              "  <thead>\n",
              "    <tr style=\"text-align: right;\">\n",
              "      <th></th>\n",
              "      <th>index</th>\n",
              "      <th>hotel</th>\n",
              "      <th>is_canceled</th>\n",
              "      <th>lead_time</th>\n",
              "      <th>arrival_date_year</th>\n",
              "      <th>arrival_date_month</th>\n",
              "      <th>arrival_date_week_number</th>\n",
              "      <th>arrival_date_day_of_month</th>\n",
              "      <th>stays_in_weekend_nights</th>\n",
              "      <th>stays_in_week_nights</th>\n",
              "      <th>...</th>\n",
              "      <th>deposit_type</th>\n",
              "      <th>agent</th>\n",
              "      <th>company</th>\n",
              "      <th>days_in_waiting_list</th>\n",
              "      <th>customer_type</th>\n",
              "      <th>adr</th>\n",
              "      <th>required_car_parking_spaces</th>\n",
              "      <th>total_of_special_requests</th>\n",
              "      <th>reservation_status</th>\n",
              "      <th>reservation_status_date</th>\n",
              "    </tr>\n",
              "  </thead>\n",
              "  <tbody>\n",
              "    <tr>\n",
              "      <th>0</th>\n",
              "      <td>0</td>\n",
              "      <td>Resort Hotel</td>\n",
              "      <td>0</td>\n",
              "      <td>342</td>\n",
              "      <td>2015</td>\n",
              "      <td>July</td>\n",
              "      <td>27</td>\n",
              "      <td>1</td>\n",
              "      <td>0</td>\n",
              "      <td>0</td>\n",
              "      <td>...</td>\n",
              "      <td>No Deposit</td>\n",
              "      <td>NaN</td>\n",
              "      <td>NaN</td>\n",
              "      <td>0</td>\n",
              "      <td>Transient</td>\n",
              "      <td>0.00</td>\n",
              "      <td>0</td>\n",
              "      <td>0</td>\n",
              "      <td>Check-Out</td>\n",
              "      <td>2015-07-01</td>\n",
              "    </tr>\n",
              "    <tr>\n",
              "      <th>1</th>\n",
              "      <td>1</td>\n",
              "      <td>Resort Hotel</td>\n",
              "      <td>0</td>\n",
              "      <td>737</td>\n",
              "      <td>2015</td>\n",
              "      <td>July</td>\n",
              "      <td>27</td>\n",
              "      <td>1</td>\n",
              "      <td>0</td>\n",
              "      <td>0</td>\n",
              "      <td>...</td>\n",
              "      <td>No Deposit</td>\n",
              "      <td>NaN</td>\n",
              "      <td>NaN</td>\n",
              "      <td>0</td>\n",
              "      <td>Transient</td>\n",
              "      <td>0.00</td>\n",
              "      <td>0</td>\n",
              "      <td>0</td>\n",
              "      <td>Check-Out</td>\n",
              "      <td>2015-07-01</td>\n",
              "    </tr>\n",
              "    <tr>\n",
              "      <th>2</th>\n",
              "      <td>2</td>\n",
              "      <td>Resort Hotel</td>\n",
              "      <td>0</td>\n",
              "      <td>7</td>\n",
              "      <td>2015</td>\n",
              "      <td>July</td>\n",
              "      <td>27</td>\n",
              "      <td>1</td>\n",
              "      <td>0</td>\n",
              "      <td>1</td>\n",
              "      <td>...</td>\n",
              "      <td>No Deposit</td>\n",
              "      <td>NaN</td>\n",
              "      <td>NaN</td>\n",
              "      <td>0</td>\n",
              "      <td>Transient</td>\n",
              "      <td>75.00</td>\n",
              "      <td>0</td>\n",
              "      <td>0</td>\n",
              "      <td>Check-Out</td>\n",
              "      <td>2015-07-02</td>\n",
              "    </tr>\n",
              "    <tr>\n",
              "      <th>3</th>\n",
              "      <td>3</td>\n",
              "      <td>Resort Hotel</td>\n",
              "      <td>0</td>\n",
              "      <td>13</td>\n",
              "      <td>2015</td>\n",
              "      <td>July</td>\n",
              "      <td>27</td>\n",
              "      <td>1</td>\n",
              "      <td>0</td>\n",
              "      <td>1</td>\n",
              "      <td>...</td>\n",
              "      <td>No Deposit</td>\n",
              "      <td>304.0</td>\n",
              "      <td>NaN</td>\n",
              "      <td>0</td>\n",
              "      <td>Transient</td>\n",
              "      <td>75.00</td>\n",
              "      <td>0</td>\n",
              "      <td>0</td>\n",
              "      <td>Check-Out</td>\n",
              "      <td>2015-07-02</td>\n",
              "    </tr>\n",
              "    <tr>\n",
              "      <th>4</th>\n",
              "      <td>4</td>\n",
              "      <td>Resort Hotel</td>\n",
              "      <td>0</td>\n",
              "      <td>14</td>\n",
              "      <td>2015</td>\n",
              "      <td>July</td>\n",
              "      <td>27</td>\n",
              "      <td>1</td>\n",
              "      <td>0</td>\n",
              "      <td>2</td>\n",
              "      <td>...</td>\n",
              "      <td>No Deposit</td>\n",
              "      <td>240.0</td>\n",
              "      <td>NaN</td>\n",
              "      <td>0</td>\n",
              "      <td>Transient</td>\n",
              "      <td>98.00</td>\n",
              "      <td>0</td>\n",
              "      <td>1</td>\n",
              "      <td>Check-Out</td>\n",
              "      <td>2015-07-03</td>\n",
              "    </tr>\n",
              "    <tr>\n",
              "      <th>...</th>\n",
              "      <td>...</td>\n",
              "      <td>...</td>\n",
              "      <td>...</td>\n",
              "      <td>...</td>\n",
              "      <td>...</td>\n",
              "      <td>...</td>\n",
              "      <td>...</td>\n",
              "      <td>...</td>\n",
              "      <td>...</td>\n",
              "      <td>...</td>\n",
              "      <td>...</td>\n",
              "      <td>...</td>\n",
              "      <td>...</td>\n",
              "      <td>...</td>\n",
              "      <td>...</td>\n",
              "      <td>...</td>\n",
              "      <td>...</td>\n",
              "      <td>...</td>\n",
              "      <td>...</td>\n",
              "      <td>...</td>\n",
              "      <td>...</td>\n",
              "    </tr>\n",
              "    <tr>\n",
              "      <th>87391</th>\n",
              "      <td>119385</td>\n",
              "      <td>City Hotel</td>\n",
              "      <td>0</td>\n",
              "      <td>23</td>\n",
              "      <td>2017</td>\n",
              "      <td>August</td>\n",
              "      <td>35</td>\n",
              "      <td>30</td>\n",
              "      <td>2</td>\n",
              "      <td>5</td>\n",
              "      <td>...</td>\n",
              "      <td>No Deposit</td>\n",
              "      <td>394.0</td>\n",
              "      <td>NaN</td>\n",
              "      <td>0</td>\n",
              "      <td>Transient</td>\n",
              "      <td>96.14</td>\n",
              "      <td>0</td>\n",
              "      <td>0</td>\n",
              "      <td>Check-Out</td>\n",
              "      <td>2017-09-06</td>\n",
              "    </tr>\n",
              "    <tr>\n",
              "      <th>87392</th>\n",
              "      <td>119386</td>\n",
              "      <td>City Hotel</td>\n",
              "      <td>0</td>\n",
              "      <td>102</td>\n",
              "      <td>2017</td>\n",
              "      <td>August</td>\n",
              "      <td>35</td>\n",
              "      <td>31</td>\n",
              "      <td>2</td>\n",
              "      <td>5</td>\n",
              "      <td>...</td>\n",
              "      <td>No Deposit</td>\n",
              "      <td>9.0</td>\n",
              "      <td>NaN</td>\n",
              "      <td>0</td>\n",
              "      <td>Transient</td>\n",
              "      <td>225.43</td>\n",
              "      <td>0</td>\n",
              "      <td>2</td>\n",
              "      <td>Check-Out</td>\n",
              "      <td>2017-09-07</td>\n",
              "    </tr>\n",
              "    <tr>\n",
              "      <th>87393</th>\n",
              "      <td>119387</td>\n",
              "      <td>City Hotel</td>\n",
              "      <td>0</td>\n",
              "      <td>34</td>\n",
              "      <td>2017</td>\n",
              "      <td>August</td>\n",
              "      <td>35</td>\n",
              "      <td>31</td>\n",
              "      <td>2</td>\n",
              "      <td>5</td>\n",
              "      <td>...</td>\n",
              "      <td>No Deposit</td>\n",
              "      <td>9.0</td>\n",
              "      <td>NaN</td>\n",
              "      <td>0</td>\n",
              "      <td>Transient</td>\n",
              "      <td>157.71</td>\n",
              "      <td>0</td>\n",
              "      <td>4</td>\n",
              "      <td>Check-Out</td>\n",
              "      <td>2017-09-07</td>\n",
              "    </tr>\n",
              "    <tr>\n",
              "      <th>87394</th>\n",
              "      <td>119388</td>\n",
              "      <td>City Hotel</td>\n",
              "      <td>0</td>\n",
              "      <td>109</td>\n",
              "      <td>2017</td>\n",
              "      <td>August</td>\n",
              "      <td>35</td>\n",
              "      <td>31</td>\n",
              "      <td>2</td>\n",
              "      <td>5</td>\n",
              "      <td>...</td>\n",
              "      <td>No Deposit</td>\n",
              "      <td>89.0</td>\n",
              "      <td>NaN</td>\n",
              "      <td>0</td>\n",
              "      <td>Transient</td>\n",
              "      <td>104.40</td>\n",
              "      <td>0</td>\n",
              "      <td>0</td>\n",
              "      <td>Check-Out</td>\n",
              "      <td>2017-09-07</td>\n",
              "    </tr>\n",
              "    <tr>\n",
              "      <th>87395</th>\n",
              "      <td>119389</td>\n",
              "      <td>City Hotel</td>\n",
              "      <td>0</td>\n",
              "      <td>205</td>\n",
              "      <td>2017</td>\n",
              "      <td>August</td>\n",
              "      <td>35</td>\n",
              "      <td>29</td>\n",
              "      <td>2</td>\n",
              "      <td>7</td>\n",
              "      <td>...</td>\n",
              "      <td>No Deposit</td>\n",
              "      <td>9.0</td>\n",
              "      <td>NaN</td>\n",
              "      <td>0</td>\n",
              "      <td>Transient</td>\n",
              "      <td>151.20</td>\n",
              "      <td>0</td>\n",
              "      <td>2</td>\n",
              "      <td>Check-Out</td>\n",
              "      <td>2017-09-07</td>\n",
              "    </tr>\n",
              "  </tbody>\n",
              "</table>\n",
              "<p>87396 rows × 33 columns</p>\n",
              "</div>\n",
              "      <button class=\"colab-df-convert\" onclick=\"convertToInteractive('df-2096ee5a-dc2d-4735-a29b-8e515c51a389')\"\n",
              "              title=\"Convert this dataframe to an interactive table.\"\n",
              "              style=\"display:none;\">\n",
              "\n",
              "  <svg xmlns=\"http://www.w3.org/2000/svg\" height=\"24px\"viewBox=\"0 0 24 24\"\n",
              "       width=\"24px\">\n",
              "    <path d=\"M0 0h24v24H0V0z\" fill=\"none\"/>\n",
              "    <path d=\"M18.56 5.44l.94 2.06.94-2.06 2.06-.94-2.06-.94-.94-2.06-.94 2.06-2.06.94zm-11 1L8.5 8.5l.94-2.06 2.06-.94-2.06-.94L8.5 2.5l-.94 2.06-2.06.94zm10 10l.94 2.06.94-2.06 2.06-.94-2.06-.94-.94-2.06-.94 2.06-2.06.94z\"/><path d=\"M17.41 7.96l-1.37-1.37c-.4-.4-.92-.59-1.43-.59-.52 0-1.04.2-1.43.59L10.3 9.45l-7.72 7.72c-.78.78-.78 2.05 0 2.83L4 21.41c.39.39.9.59 1.41.59.51 0 1.02-.2 1.41-.59l7.78-7.78 2.81-2.81c.8-.78.8-2.07 0-2.86zM5.41 20L4 18.59l7.72-7.72 1.47 1.35L5.41 20z\"/>\n",
              "  </svg>\n",
              "      </button>\n",
              "\n",
              "\n",
              "\n",
              "    <div id=\"df-3c9e91db-bdb9-4cbc-9331-8fdc335fc21a\">\n",
              "      <button class=\"colab-df-quickchart\" onclick=\"quickchart('df-3c9e91db-bdb9-4cbc-9331-8fdc335fc21a')\"\n",
              "              title=\"Suggest charts.\"\n",
              "              style=\"display:none;\">\n",
              "\n",
              "<svg xmlns=\"http://www.w3.org/2000/svg\" height=\"24px\"viewBox=\"0 0 24 24\"\n",
              "     width=\"24px\">\n",
              "    <g>\n",
              "        <path d=\"M19 3H5c-1.1 0-2 .9-2 2v14c0 1.1.9 2 2 2h14c1.1 0 2-.9 2-2V5c0-1.1-.9-2-2-2zM9 17H7v-7h2v7zm4 0h-2V7h2v10zm4 0h-2v-4h2v4z\"/>\n",
              "    </g>\n",
              "</svg>\n",
              "      </button>\n",
              "    </div>\n",
              "\n",
              "<style>\n",
              "  .colab-df-quickchart {\n",
              "    background-color: #E8F0FE;\n",
              "    border: none;\n",
              "    border-radius: 50%;\n",
              "    cursor: pointer;\n",
              "    display: none;\n",
              "    fill: #1967D2;\n",
              "    height: 32px;\n",
              "    padding: 0 0 0 0;\n",
              "    width: 32px;\n",
              "  }\n",
              "\n",
              "  .colab-df-quickchart:hover {\n",
              "    background-color: #E2EBFA;\n",
              "    box-shadow: 0px 1px 2px rgba(60, 64, 67, 0.3), 0px 1px 3px 1px rgba(60, 64, 67, 0.15);\n",
              "    fill: #174EA6;\n",
              "  }\n",
              "\n",
              "  [theme=dark] .colab-df-quickchart {\n",
              "    background-color: #3B4455;\n",
              "    fill: #D2E3FC;\n",
              "  }\n",
              "\n",
              "  [theme=dark] .colab-df-quickchart:hover {\n",
              "    background-color: #434B5C;\n",
              "    box-shadow: 0px 1px 3px 1px rgba(0, 0, 0, 0.15);\n",
              "    filter: drop-shadow(0px 1px 2px rgba(0, 0, 0, 0.3));\n",
              "    fill: #FFFFFF;\n",
              "  }\n",
              "</style>\n",
              "\n",
              "    <script>\n",
              "      async function quickchart(key) {\n",
              "        const containerElement = document.querySelector('#' + key);\n",
              "        const charts = await google.colab.kernel.invokeFunction(\n",
              "            'suggestCharts', [key], {});\n",
              "      }\n",
              "    </script>\n",
              "\n",
              "      <script>\n",
              "\n",
              "function displayQuickchartButton(domScope) {\n",
              "  let quickchartButtonEl =\n",
              "    domScope.querySelector('#df-3c9e91db-bdb9-4cbc-9331-8fdc335fc21a button.colab-df-quickchart');\n",
              "  quickchartButtonEl.style.display =\n",
              "    google.colab.kernel.accessAllowed ? 'block' : 'none';\n",
              "}\n",
              "\n",
              "        displayQuickchartButton(document);\n",
              "      </script>\n",
              "      <style>\n",
              "    .colab-df-container {\n",
              "      display:flex;\n",
              "      flex-wrap:wrap;\n",
              "      gap: 12px;\n",
              "    }\n",
              "\n",
              "    .colab-df-convert {\n",
              "      background-color: #E8F0FE;\n",
              "      border: none;\n",
              "      border-radius: 50%;\n",
              "      cursor: pointer;\n",
              "      display: none;\n",
              "      fill: #1967D2;\n",
              "      height: 32px;\n",
              "      padding: 0 0 0 0;\n",
              "      width: 32px;\n",
              "    }\n",
              "\n",
              "    .colab-df-convert:hover {\n",
              "      background-color: #E2EBFA;\n",
              "      box-shadow: 0px 1px 2px rgba(60, 64, 67, 0.3), 0px 1px 3px 1px rgba(60, 64, 67, 0.15);\n",
              "      fill: #174EA6;\n",
              "    }\n",
              "\n",
              "    [theme=dark] .colab-df-convert {\n",
              "      background-color: #3B4455;\n",
              "      fill: #D2E3FC;\n",
              "    }\n",
              "\n",
              "    [theme=dark] .colab-df-convert:hover {\n",
              "      background-color: #434B5C;\n",
              "      box-shadow: 0px 1px 3px 1px rgba(0, 0, 0, 0.15);\n",
              "      filter: drop-shadow(0px 1px 2px rgba(0, 0, 0, 0.3));\n",
              "      fill: #FFFFFF;\n",
              "    }\n",
              "  </style>\n",
              "\n",
              "      <script>\n",
              "        const buttonEl =\n",
              "          document.querySelector('#df-2096ee5a-dc2d-4735-a29b-8e515c51a389 button.colab-df-convert');\n",
              "        buttonEl.style.display =\n",
              "          google.colab.kernel.accessAllowed ? 'block' : 'none';\n",
              "\n",
              "        async function convertToInteractive(key) {\n",
              "          const element = document.querySelector('#df-2096ee5a-dc2d-4735-a29b-8e515c51a389');\n",
              "          const dataTable =\n",
              "            await google.colab.kernel.invokeFunction('convertToInteractive',\n",
              "                                                     [key], {});\n",
              "          if (!dataTable) return;\n",
              "\n",
              "          const docLinkHtml = 'Like what you see? Visit the ' +\n",
              "            '<a target=\"_blank\" href=https://colab.research.google.com/notebooks/data_table.ipynb>data table notebook</a>'\n",
              "            + ' to learn more about interactive tables.';\n",
              "          element.innerHTML = '';\n",
              "          dataTable['output_type'] = 'display_data';\n",
              "          await google.colab.output.renderOutput(dataTable, element);\n",
              "          const docLink = document.createElement('div');\n",
              "          docLink.innerHTML = docLinkHtml;\n",
              "          element.appendChild(docLink);\n",
              "        }\n",
              "      </script>\n",
              "    </div>\n",
              "  </div>\n"
            ]
          },
          "metadata": {},
          "execution_count": 13
        }
      ]
    },
    {
      "cell_type": "markdown",
      "source": [
        "#note - now here one additional column also occur which is index column."
      ],
      "metadata": {
        "id": "JwFiNosD2MrA"
      }
    },
    {
      "cell_type": "markdown",
      "source": [
        "#### Missing Values/Null Values"
      ],
      "metadata": {
        "id": "PoPl-ycgm1ru"
      }
    },
    {
      "cell_type": "code",
      "source": [
        "# Missing Values/Null Values Count\n",
        "\n",
        "nullvalues = hotel_booking_analysis_df.isnull() == True\n",
        "\n",
        "#replacing all the null value as NaN\n",
        "hotel_booking_analysis_df.fillna(np.nan, inplace = True)"
      ],
      "metadata": {
        "id": "GgHWkxvamxVg"
      },
      "execution_count": 35,
      "outputs": []
    },
    {
      "cell_type": "code",
      "source": [
        "hotel_booking_analysis_df.head(10)"
      ],
      "metadata": {
        "colab": {
          "base_uri": "https://localhost:8080/",
          "height": 629
        },
        "id": "79SU23Ue-8c1",
        "outputId": "f84f981b-d32f-4b66-d402-2930dd526d94"
      },
      "execution_count": 36,
      "outputs": [
        {
          "output_type": "execute_result",
          "data": {
            "text/plain": [
              "           hotel  is_canceled  lead_time  arrival_date_year  \\\n",
              "0   Resort Hotel            0        342               2015   \n",
              "1   Resort Hotel            0        737               2015   \n",
              "2   Resort Hotel            0          7               2015   \n",
              "3   Resort Hotel            0         13               2015   \n",
              "4   Resort Hotel            0         14               2015   \n",
              "6   Resort Hotel            0          0               2015   \n",
              "7   Resort Hotel            0          9               2015   \n",
              "8   Resort Hotel            1         85               2015   \n",
              "9   Resort Hotel            1         75               2015   \n",
              "10  Resort Hotel            1         23               2015   \n",
              "\n",
              "   arrival_date_month  arrival_date_week_number  arrival_date_day_of_month  \\\n",
              "0                July                        27                          1   \n",
              "1                July                        27                          1   \n",
              "2                July                        27                          1   \n",
              "3                July                        27                          1   \n",
              "4                July                        27                          1   \n",
              "6                July                        27                          1   \n",
              "7                July                        27                          1   \n",
              "8                July                        27                          1   \n",
              "9                July                        27                          1   \n",
              "10               July                        27                          1   \n",
              "\n",
              "    stays_in_weekend_nights  stays_in_week_nights  adults  ...  deposit_type  \\\n",
              "0                         0                     0       2  ...    No Deposit   \n",
              "1                         0                     0       2  ...    No Deposit   \n",
              "2                         0                     1       1  ...    No Deposit   \n",
              "3                         0                     1       1  ...    No Deposit   \n",
              "4                         0                     2       2  ...    No Deposit   \n",
              "6                         0                     2       2  ...    No Deposit   \n",
              "7                         0                     2       2  ...    No Deposit   \n",
              "8                         0                     3       2  ...    No Deposit   \n",
              "9                         0                     3       2  ...    No Deposit   \n",
              "10                        0                     4       2  ...    No Deposit   \n",
              "\n",
              "    agent company days_in_waiting_list customer_type    adr  \\\n",
              "0     NaN     NaN                    0     Transient    0.0   \n",
              "1     NaN     NaN                    0     Transient    0.0   \n",
              "2     NaN     NaN                    0     Transient   75.0   \n",
              "3   304.0     NaN                    0     Transient   75.0   \n",
              "4   240.0     NaN                    0     Transient   98.0   \n",
              "6     NaN     NaN                    0     Transient  107.0   \n",
              "7   303.0     NaN                    0     Transient  103.0   \n",
              "8   240.0     NaN                    0     Transient   82.0   \n",
              "9    15.0     NaN                    0     Transient  105.5   \n",
              "10  240.0     NaN                    0     Transient  123.0   \n",
              "\n",
              "    required_car_parking_spaces  total_of_special_requests  \\\n",
              "0                             0                          0   \n",
              "1                             0                          0   \n",
              "2                             0                          0   \n",
              "3                             0                          0   \n",
              "4                             0                          1   \n",
              "6                             0                          0   \n",
              "7                             0                          1   \n",
              "8                             0                          1   \n",
              "9                             0                          0   \n",
              "10                            0                          0   \n",
              "\n",
              "    reservation_status reservation_status_date  \n",
              "0            Check-Out              2015-07-01  \n",
              "1            Check-Out              2015-07-01  \n",
              "2            Check-Out              2015-07-02  \n",
              "3            Check-Out              2015-07-02  \n",
              "4            Check-Out              2015-07-03  \n",
              "6            Check-Out              2015-07-03  \n",
              "7            Check-Out              2015-07-03  \n",
              "8             Canceled              2015-05-06  \n",
              "9             Canceled              2015-04-22  \n",
              "10            Canceled              2015-06-23  \n",
              "\n",
              "[10 rows x 32 columns]"
            ],
            "text/html": [
              "\n",
              "\n",
              "  <div id=\"df-9e526b00-afcf-4160-9af3-84494d133a31\">\n",
              "    <div class=\"colab-df-container\">\n",
              "      <div>\n",
              "<style scoped>\n",
              "    .dataframe tbody tr th:only-of-type {\n",
              "        vertical-align: middle;\n",
              "    }\n",
              "\n",
              "    .dataframe tbody tr th {\n",
              "        vertical-align: top;\n",
              "    }\n",
              "\n",
              "    .dataframe thead th {\n",
              "        text-align: right;\n",
              "    }\n",
              "</style>\n",
              "<table border=\"1\" class=\"dataframe\">\n",
              "  <thead>\n",
              "    <tr style=\"text-align: right;\">\n",
              "      <th></th>\n",
              "      <th>hotel</th>\n",
              "      <th>is_canceled</th>\n",
              "      <th>lead_time</th>\n",
              "      <th>arrival_date_year</th>\n",
              "      <th>arrival_date_month</th>\n",
              "      <th>arrival_date_week_number</th>\n",
              "      <th>arrival_date_day_of_month</th>\n",
              "      <th>stays_in_weekend_nights</th>\n",
              "      <th>stays_in_week_nights</th>\n",
              "      <th>adults</th>\n",
              "      <th>...</th>\n",
              "      <th>deposit_type</th>\n",
              "      <th>agent</th>\n",
              "      <th>company</th>\n",
              "      <th>days_in_waiting_list</th>\n",
              "      <th>customer_type</th>\n",
              "      <th>adr</th>\n",
              "      <th>required_car_parking_spaces</th>\n",
              "      <th>total_of_special_requests</th>\n",
              "      <th>reservation_status</th>\n",
              "      <th>reservation_status_date</th>\n",
              "    </tr>\n",
              "  </thead>\n",
              "  <tbody>\n",
              "    <tr>\n",
              "      <th>0</th>\n",
              "      <td>Resort Hotel</td>\n",
              "      <td>0</td>\n",
              "      <td>342</td>\n",
              "      <td>2015</td>\n",
              "      <td>July</td>\n",
              "      <td>27</td>\n",
              "      <td>1</td>\n",
              "      <td>0</td>\n",
              "      <td>0</td>\n",
              "      <td>2</td>\n",
              "      <td>...</td>\n",
              "      <td>No Deposit</td>\n",
              "      <td>NaN</td>\n",
              "      <td>NaN</td>\n",
              "      <td>0</td>\n",
              "      <td>Transient</td>\n",
              "      <td>0.0</td>\n",
              "      <td>0</td>\n",
              "      <td>0</td>\n",
              "      <td>Check-Out</td>\n",
              "      <td>2015-07-01</td>\n",
              "    </tr>\n",
              "    <tr>\n",
              "      <th>1</th>\n",
              "      <td>Resort Hotel</td>\n",
              "      <td>0</td>\n",
              "      <td>737</td>\n",
              "      <td>2015</td>\n",
              "      <td>July</td>\n",
              "      <td>27</td>\n",
              "      <td>1</td>\n",
              "      <td>0</td>\n",
              "      <td>0</td>\n",
              "      <td>2</td>\n",
              "      <td>...</td>\n",
              "      <td>No Deposit</td>\n",
              "      <td>NaN</td>\n",
              "      <td>NaN</td>\n",
              "      <td>0</td>\n",
              "      <td>Transient</td>\n",
              "      <td>0.0</td>\n",
              "      <td>0</td>\n",
              "      <td>0</td>\n",
              "      <td>Check-Out</td>\n",
              "      <td>2015-07-01</td>\n",
              "    </tr>\n",
              "    <tr>\n",
              "      <th>2</th>\n",
              "      <td>Resort Hotel</td>\n",
              "      <td>0</td>\n",
              "      <td>7</td>\n",
              "      <td>2015</td>\n",
              "      <td>July</td>\n",
              "      <td>27</td>\n",
              "      <td>1</td>\n",
              "      <td>0</td>\n",
              "      <td>1</td>\n",
              "      <td>1</td>\n",
              "      <td>...</td>\n",
              "      <td>No Deposit</td>\n",
              "      <td>NaN</td>\n",
              "      <td>NaN</td>\n",
              "      <td>0</td>\n",
              "      <td>Transient</td>\n",
              "      <td>75.0</td>\n",
              "      <td>0</td>\n",
              "      <td>0</td>\n",
              "      <td>Check-Out</td>\n",
              "      <td>2015-07-02</td>\n",
              "    </tr>\n",
              "    <tr>\n",
              "      <th>3</th>\n",
              "      <td>Resort Hotel</td>\n",
              "      <td>0</td>\n",
              "      <td>13</td>\n",
              "      <td>2015</td>\n",
              "      <td>July</td>\n",
              "      <td>27</td>\n",
              "      <td>1</td>\n",
              "      <td>0</td>\n",
              "      <td>1</td>\n",
              "      <td>1</td>\n",
              "      <td>...</td>\n",
              "      <td>No Deposit</td>\n",
              "      <td>304.0</td>\n",
              "      <td>NaN</td>\n",
              "      <td>0</td>\n",
              "      <td>Transient</td>\n",
              "      <td>75.0</td>\n",
              "      <td>0</td>\n",
              "      <td>0</td>\n",
              "      <td>Check-Out</td>\n",
              "      <td>2015-07-02</td>\n",
              "    </tr>\n",
              "    <tr>\n",
              "      <th>4</th>\n",
              "      <td>Resort Hotel</td>\n",
              "      <td>0</td>\n",
              "      <td>14</td>\n",
              "      <td>2015</td>\n",
              "      <td>July</td>\n",
              "      <td>27</td>\n",
              "      <td>1</td>\n",
              "      <td>0</td>\n",
              "      <td>2</td>\n",
              "      <td>2</td>\n",
              "      <td>...</td>\n",
              "      <td>No Deposit</td>\n",
              "      <td>240.0</td>\n",
              "      <td>NaN</td>\n",
              "      <td>0</td>\n",
              "      <td>Transient</td>\n",
              "      <td>98.0</td>\n",
              "      <td>0</td>\n",
              "      <td>1</td>\n",
              "      <td>Check-Out</td>\n",
              "      <td>2015-07-03</td>\n",
              "    </tr>\n",
              "    <tr>\n",
              "      <th>6</th>\n",
              "      <td>Resort Hotel</td>\n",
              "      <td>0</td>\n",
              "      <td>0</td>\n",
              "      <td>2015</td>\n",
              "      <td>July</td>\n",
              "      <td>27</td>\n",
              "      <td>1</td>\n",
              "      <td>0</td>\n",
              "      <td>2</td>\n",
              "      <td>2</td>\n",
              "      <td>...</td>\n",
              "      <td>No Deposit</td>\n",
              "      <td>NaN</td>\n",
              "      <td>NaN</td>\n",
              "      <td>0</td>\n",
              "      <td>Transient</td>\n",
              "      <td>107.0</td>\n",
              "      <td>0</td>\n",
              "      <td>0</td>\n",
              "      <td>Check-Out</td>\n",
              "      <td>2015-07-03</td>\n",
              "    </tr>\n",
              "    <tr>\n",
              "      <th>7</th>\n",
              "      <td>Resort Hotel</td>\n",
              "      <td>0</td>\n",
              "      <td>9</td>\n",
              "      <td>2015</td>\n",
              "      <td>July</td>\n",
              "      <td>27</td>\n",
              "      <td>1</td>\n",
              "      <td>0</td>\n",
              "      <td>2</td>\n",
              "      <td>2</td>\n",
              "      <td>...</td>\n",
              "      <td>No Deposit</td>\n",
              "      <td>303.0</td>\n",
              "      <td>NaN</td>\n",
              "      <td>0</td>\n",
              "      <td>Transient</td>\n",
              "      <td>103.0</td>\n",
              "      <td>0</td>\n",
              "      <td>1</td>\n",
              "      <td>Check-Out</td>\n",
              "      <td>2015-07-03</td>\n",
              "    </tr>\n",
              "    <tr>\n",
              "      <th>8</th>\n",
              "      <td>Resort Hotel</td>\n",
              "      <td>1</td>\n",
              "      <td>85</td>\n",
              "      <td>2015</td>\n",
              "      <td>July</td>\n",
              "      <td>27</td>\n",
              "      <td>1</td>\n",
              "      <td>0</td>\n",
              "      <td>3</td>\n",
              "      <td>2</td>\n",
              "      <td>...</td>\n",
              "      <td>No Deposit</td>\n",
              "      <td>240.0</td>\n",
              "      <td>NaN</td>\n",
              "      <td>0</td>\n",
              "      <td>Transient</td>\n",
              "      <td>82.0</td>\n",
              "      <td>0</td>\n",
              "      <td>1</td>\n",
              "      <td>Canceled</td>\n",
              "      <td>2015-05-06</td>\n",
              "    </tr>\n",
              "    <tr>\n",
              "      <th>9</th>\n",
              "      <td>Resort Hotel</td>\n",
              "      <td>1</td>\n",
              "      <td>75</td>\n",
              "      <td>2015</td>\n",
              "      <td>July</td>\n",
              "      <td>27</td>\n",
              "      <td>1</td>\n",
              "      <td>0</td>\n",
              "      <td>3</td>\n",
              "      <td>2</td>\n",
              "      <td>...</td>\n",
              "      <td>No Deposit</td>\n",
              "      <td>15.0</td>\n",
              "      <td>NaN</td>\n",
              "      <td>0</td>\n",
              "      <td>Transient</td>\n",
              "      <td>105.5</td>\n",
              "      <td>0</td>\n",
              "      <td>0</td>\n",
              "      <td>Canceled</td>\n",
              "      <td>2015-04-22</td>\n",
              "    </tr>\n",
              "    <tr>\n",
              "      <th>10</th>\n",
              "      <td>Resort Hotel</td>\n",
              "      <td>1</td>\n",
              "      <td>23</td>\n",
              "      <td>2015</td>\n",
              "      <td>July</td>\n",
              "      <td>27</td>\n",
              "      <td>1</td>\n",
              "      <td>0</td>\n",
              "      <td>4</td>\n",
              "      <td>2</td>\n",
              "      <td>...</td>\n",
              "      <td>No Deposit</td>\n",
              "      <td>240.0</td>\n",
              "      <td>NaN</td>\n",
              "      <td>0</td>\n",
              "      <td>Transient</td>\n",
              "      <td>123.0</td>\n",
              "      <td>0</td>\n",
              "      <td>0</td>\n",
              "      <td>Canceled</td>\n",
              "      <td>2015-06-23</td>\n",
              "    </tr>\n",
              "  </tbody>\n",
              "</table>\n",
              "<p>10 rows × 32 columns</p>\n",
              "</div>\n",
              "      <button class=\"colab-df-convert\" onclick=\"convertToInteractive('df-9e526b00-afcf-4160-9af3-84494d133a31')\"\n",
              "              title=\"Convert this dataframe to an interactive table.\"\n",
              "              style=\"display:none;\">\n",
              "\n",
              "  <svg xmlns=\"http://www.w3.org/2000/svg\" height=\"24px\"viewBox=\"0 0 24 24\"\n",
              "       width=\"24px\">\n",
              "    <path d=\"M0 0h24v24H0V0z\" fill=\"none\"/>\n",
              "    <path d=\"M18.56 5.44l.94 2.06.94-2.06 2.06-.94-2.06-.94-.94-2.06-.94 2.06-2.06.94zm-11 1L8.5 8.5l.94-2.06 2.06-.94-2.06-.94L8.5 2.5l-.94 2.06-2.06.94zm10 10l.94 2.06.94-2.06 2.06-.94-2.06-.94-.94-2.06-.94 2.06-2.06.94z\"/><path d=\"M17.41 7.96l-1.37-1.37c-.4-.4-.92-.59-1.43-.59-.52 0-1.04.2-1.43.59L10.3 9.45l-7.72 7.72c-.78.78-.78 2.05 0 2.83L4 21.41c.39.39.9.59 1.41.59.51 0 1.02-.2 1.41-.59l7.78-7.78 2.81-2.81c.8-.78.8-2.07 0-2.86zM5.41 20L4 18.59l7.72-7.72 1.47 1.35L5.41 20z\"/>\n",
              "  </svg>\n",
              "      </button>\n",
              "\n",
              "\n",
              "\n",
              "    <div id=\"df-1c2898ea-e5d0-4b6b-86e0-a6ba1ce52c61\">\n",
              "      <button class=\"colab-df-quickchart\" onclick=\"quickchart('df-1c2898ea-e5d0-4b6b-86e0-a6ba1ce52c61')\"\n",
              "              title=\"Suggest charts.\"\n",
              "              style=\"display:none;\">\n",
              "\n",
              "<svg xmlns=\"http://www.w3.org/2000/svg\" height=\"24px\"viewBox=\"0 0 24 24\"\n",
              "     width=\"24px\">\n",
              "    <g>\n",
              "        <path d=\"M19 3H5c-1.1 0-2 .9-2 2v14c0 1.1.9 2 2 2h14c1.1 0 2-.9 2-2V5c0-1.1-.9-2-2-2zM9 17H7v-7h2v7zm4 0h-2V7h2v10zm4 0h-2v-4h2v4z\"/>\n",
              "    </g>\n",
              "</svg>\n",
              "      </button>\n",
              "    </div>\n",
              "\n",
              "<style>\n",
              "  .colab-df-quickchart {\n",
              "    background-color: #E8F0FE;\n",
              "    border: none;\n",
              "    border-radius: 50%;\n",
              "    cursor: pointer;\n",
              "    display: none;\n",
              "    fill: #1967D2;\n",
              "    height: 32px;\n",
              "    padding: 0 0 0 0;\n",
              "    width: 32px;\n",
              "  }\n",
              "\n",
              "  .colab-df-quickchart:hover {\n",
              "    background-color: #E2EBFA;\n",
              "    box-shadow: 0px 1px 2px rgba(60, 64, 67, 0.3), 0px 1px 3px 1px rgba(60, 64, 67, 0.15);\n",
              "    fill: #174EA6;\n",
              "  }\n",
              "\n",
              "  [theme=dark] .colab-df-quickchart {\n",
              "    background-color: #3B4455;\n",
              "    fill: #D2E3FC;\n",
              "  }\n",
              "\n",
              "  [theme=dark] .colab-df-quickchart:hover {\n",
              "    background-color: #434B5C;\n",
              "    box-shadow: 0px 1px 3px 1px rgba(0, 0, 0, 0.15);\n",
              "    filter: drop-shadow(0px 1px 2px rgba(0, 0, 0, 0.3));\n",
              "    fill: #FFFFFF;\n",
              "  }\n",
              "</style>\n",
              "\n",
              "    <script>\n",
              "      async function quickchart(key) {\n",
              "        const containerElement = document.querySelector('#' + key);\n",
              "        const charts = await google.colab.kernel.invokeFunction(\n",
              "            'suggestCharts', [key], {});\n",
              "      }\n",
              "    </script>\n",
              "\n",
              "      <script>\n",
              "\n",
              "function displayQuickchartButton(domScope) {\n",
              "  let quickchartButtonEl =\n",
              "    domScope.querySelector('#df-1c2898ea-e5d0-4b6b-86e0-a6ba1ce52c61 button.colab-df-quickchart');\n",
              "  quickchartButtonEl.style.display =\n",
              "    google.colab.kernel.accessAllowed ? 'block' : 'none';\n",
              "}\n",
              "\n",
              "        displayQuickchartButton(document);\n",
              "      </script>\n",
              "      <style>\n",
              "    .colab-df-container {\n",
              "      display:flex;\n",
              "      flex-wrap:wrap;\n",
              "      gap: 12px;\n",
              "    }\n",
              "\n",
              "    .colab-df-convert {\n",
              "      background-color: #E8F0FE;\n",
              "      border: none;\n",
              "      border-radius: 50%;\n",
              "      cursor: pointer;\n",
              "      display: none;\n",
              "      fill: #1967D2;\n",
              "      height: 32px;\n",
              "      padding: 0 0 0 0;\n",
              "      width: 32px;\n",
              "    }\n",
              "\n",
              "    .colab-df-convert:hover {\n",
              "      background-color: #E2EBFA;\n",
              "      box-shadow: 0px 1px 2px rgba(60, 64, 67, 0.3), 0px 1px 3px 1px rgba(60, 64, 67, 0.15);\n",
              "      fill: #174EA6;\n",
              "    }\n",
              "\n",
              "    [theme=dark] .colab-df-convert {\n",
              "      background-color: #3B4455;\n",
              "      fill: #D2E3FC;\n",
              "    }\n",
              "\n",
              "    [theme=dark] .colab-df-convert:hover {\n",
              "      background-color: #434B5C;\n",
              "      box-shadow: 0px 1px 3px 1px rgba(0, 0, 0, 0.15);\n",
              "      filter: drop-shadow(0px 1px 2px rgba(0, 0, 0, 0.3));\n",
              "      fill: #FFFFFF;\n",
              "    }\n",
              "  </style>\n",
              "\n",
              "      <script>\n",
              "        const buttonEl =\n",
              "          document.querySelector('#df-9e526b00-afcf-4160-9af3-84494d133a31 button.colab-df-convert');\n",
              "        buttonEl.style.display =\n",
              "          google.colab.kernel.accessAllowed ? 'block' : 'none';\n",
              "\n",
              "        async function convertToInteractive(key) {\n",
              "          const element = document.querySelector('#df-9e526b00-afcf-4160-9af3-84494d133a31');\n",
              "          const dataTable =\n",
              "            await google.colab.kernel.invokeFunction('convertToInteractive',\n",
              "                                                     [key], {});\n",
              "          if (!dataTable) return;\n",
              "\n",
              "          const docLinkHtml = 'Like what you see? Visit the ' +\n",
              "            '<a target=\"_blank\" href=https://colab.research.google.com/notebooks/data_table.ipynb>data table notebook</a>'\n",
              "            + ' to learn more about interactive tables.';\n",
              "          element.innerHTML = '';\n",
              "          dataTable['output_type'] = 'display_data';\n",
              "          await google.colab.output.renderOutput(dataTable, element);\n",
              "          const docLink = document.createElement('div');\n",
              "          docLink.innerHTML = docLinkHtml;\n",
              "          element.appendChild(docLink);\n",
              "        }\n",
              "      </script>\n",
              "    </div>\n",
              "  </div>\n"
            ]
          },
          "metadata": {},
          "execution_count": 36
        }
      ]
    },
    {
      "cell_type": "code",
      "source": [
        "# Visualizing the missing values\n",
        "missing_values = hotel_booking_analysis_df.isnull().sum().sort_values(ascending = False)\n",
        "\n",
        "missing_values"
      ],
      "metadata": {
        "id": "3q5wnI3om9sJ",
        "colab": {
          "base_uri": "https://localhost:8080/"
        },
        "outputId": "f497f9d5-f9c2-4151-cac4-4d2f2c6fcdcc"
      },
      "execution_count": 38,
      "outputs": [
        {
          "output_type": "execute_result",
          "data": {
            "text/plain": [
              "company                           82137\n",
              "agent                             12193\n",
              "country                             452\n",
              "children                              4\n",
              "reserved_room_type                    0\n",
              "assigned_room_type                    0\n",
              "booking_changes                       0\n",
              "deposit_type                          0\n",
              "hotel                                 0\n",
              "previous_cancellations                0\n",
              "days_in_waiting_list                  0\n",
              "customer_type                         0\n",
              "adr                                   0\n",
              "required_car_parking_spaces           0\n",
              "total_of_special_requests             0\n",
              "reservation_status                    0\n",
              "previous_bookings_not_canceled        0\n",
              "is_repeated_guest                     0\n",
              "is_canceled                           0\n",
              "distribution_channel                  0\n",
              "market_segment                        0\n",
              "meal                                  0\n",
              "babies                                0\n",
              "adults                                0\n",
              "stays_in_week_nights                  0\n",
              "stays_in_weekend_nights               0\n",
              "arrival_date_day_of_month             0\n",
              "arrival_date_week_number              0\n",
              "arrival_date_month                    0\n",
              "arrival_date_year                     0\n",
              "lead_time                             0\n",
              "reservation_status_date               0\n",
              "dtype: int64"
            ]
          },
          "metadata": {},
          "execution_count": 38
        }
      ]
    },
    {
      "cell_type": "markdown",
      "source": [
        "### What did you know about your dataset?"
      ],
      "metadata": {
        "id": "H0kj-8xxnORC"
      }
    },
    {
      "cell_type": "markdown",
      "source": [
        "In this dataset we have two hotels, H1= City hotel and H2= Resort hotel. In this data we compares various booking information between these two, information such as when the booking was canceled, customer arrival date, month & year, number of people stayed in hotel and how many of them are adults,childeren or babies and from where they came and what type of meal they opted for themselves,and it also shows that if any customer had booked hotel previously or canceled their booking previously and have other information also. In this dataset some values are duplicated which we also removed from this data & and make it more accurate. In this we got to know all the information about hotel booking of both the hotels"
      ],
      "metadata": {
        "id": "gfoNAAC-nUe_"
      }
    },
    {
      "cell_type": "markdown",
      "source": [
        "## ***2. Understanding Your Variables***"
      ],
      "metadata": {
        "id": "nA9Y7ga8ng1Z"
      }
    },
    {
      "cell_type": "code",
      "source": [
        "# Dataset Columns\n",
        "hotel_booking__df_columns = hotel_booking_analysis_df.columns\n",
        "\n",
        "hotel_booking__df_columns"
      ],
      "metadata": {
        "id": "j7xfkqrt5Ag5",
        "colab": {
          "base_uri": "https://localhost:8080/"
        },
        "outputId": "93068044-ea64-46e6-dae9-c950cfaada58"
      },
      "execution_count": 39,
      "outputs": [
        {
          "output_type": "execute_result",
          "data": {
            "text/plain": [
              "Index(['hotel', 'is_canceled', 'lead_time', 'arrival_date_year',\n",
              "       'arrival_date_month', 'arrival_date_week_number',\n",
              "       'arrival_date_day_of_month', 'stays_in_weekend_nights',\n",
              "       'stays_in_week_nights', 'adults', 'children', 'babies', 'meal',\n",
              "       'country', 'market_segment', 'distribution_channel',\n",
              "       'is_repeated_guest', 'previous_cancellations',\n",
              "       'previous_bookings_not_canceled', 'reserved_room_type',\n",
              "       'assigned_room_type', 'booking_changes', 'deposit_type', 'agent',\n",
              "       'company', 'days_in_waiting_list', 'customer_type', 'adr',\n",
              "       'required_car_parking_spaces', 'total_of_special_requests',\n",
              "       'reservation_status', 'reservation_status_date'],\n",
              "      dtype='object')"
            ]
          },
          "metadata": {},
          "execution_count": 39
        }
      ]
    },
    {
      "cell_type": "code",
      "source": [
        "# Dataset Describe\n",
        "\n",
        "# # By this describe method we get overall descriptive summary of the dataframe (This works only for numerical columns).\n",
        "hotel_booking_analysis_df.describe()"
      ],
      "metadata": {
        "id": "DnOaZdaE5Q5t",
        "colab": {
          "base_uri": "https://localhost:8080/",
          "height": 364
        },
        "outputId": "b29d00b9-94e2-48f0-c3a1-9d7a23912a39"
      },
      "execution_count": 40,
      "outputs": [
        {
          "output_type": "execute_result",
          "data": {
            "text/plain": [
              "        is_canceled     lead_time  arrival_date_year  \\\n",
              "count  87396.000000  87396.000000       87396.000000   \n",
              "mean       0.274898     79.891368        2016.210296   \n",
              "std        0.446466     86.052325           0.686102   \n",
              "min        0.000000      0.000000        2015.000000   \n",
              "25%        0.000000     11.000000        2016.000000   \n",
              "50%        0.000000     49.000000        2016.000000   \n",
              "75%        1.000000    125.000000        2017.000000   \n",
              "max        1.000000    737.000000        2017.000000   \n",
              "\n",
              "       arrival_date_week_number  arrival_date_day_of_month  \\\n",
              "count              87396.000000               87396.000000   \n",
              "mean                  26.838334                  15.815541   \n",
              "std                   13.674572                   8.835146   \n",
              "min                    1.000000                   1.000000   \n",
              "25%                   16.000000                   8.000000   \n",
              "50%                   27.000000                  16.000000   \n",
              "75%                   37.000000                  23.000000   \n",
              "max                   53.000000                  31.000000   \n",
              "\n",
              "       stays_in_weekend_nights  stays_in_week_nights        adults  \\\n",
              "count             87396.000000          87396.000000  87396.000000   \n",
              "mean                  1.005263              2.625395      1.875795   \n",
              "std                   1.031921              2.053584      0.626500   \n",
              "min                   0.000000              0.000000      0.000000   \n",
              "25%                   0.000000              1.000000      2.000000   \n",
              "50%                   1.000000              2.000000      2.000000   \n",
              "75%                   2.000000              4.000000      2.000000   \n",
              "max                  19.000000             50.000000     55.000000   \n",
              "\n",
              "           children        babies  is_repeated_guest  previous_cancellations  \\\n",
              "count  87392.000000  87396.000000       87396.000000            87396.000000   \n",
              "mean       0.138640      0.010824           0.039075                0.030413   \n",
              "std        0.455881      0.113597           0.193775                0.369145   \n",
              "min        0.000000      0.000000           0.000000                0.000000   \n",
              "25%        0.000000      0.000000           0.000000                0.000000   \n",
              "50%        0.000000      0.000000           0.000000                0.000000   \n",
              "75%        0.000000      0.000000           0.000000                0.000000   \n",
              "max       10.000000     10.000000           1.000000               26.000000   \n",
              "\n",
              "       previous_bookings_not_canceled  booking_changes         agent  \\\n",
              "count                    87396.000000     87396.000000  75203.000000   \n",
              "mean                         0.183990         0.271603     94.138306   \n",
              "std                          1.731894         0.727245    113.188172   \n",
              "min                          0.000000         0.000000      1.000000   \n",
              "25%                          0.000000         0.000000      9.000000   \n",
              "50%                          0.000000         0.000000     14.000000   \n",
              "75%                          0.000000         0.000000    240.000000   \n",
              "max                         72.000000        21.000000    535.000000   \n",
              "\n",
              "           company  days_in_waiting_list           adr  \\\n",
              "count  5259.000000          87396.000000  87396.000000   \n",
              "mean    183.081384              0.749565    106.337246   \n",
              "std     130.557608             10.015731     55.013953   \n",
              "min       6.000000              0.000000     -6.380000   \n",
              "25%      47.000000              0.000000     72.000000   \n",
              "50%     169.000000              0.000000     98.100000   \n",
              "75%     263.000000              0.000000    134.000000   \n",
              "max     543.000000            391.000000   5400.000000   \n",
              "\n",
              "       required_car_parking_spaces  total_of_special_requests  \n",
              "count                 87396.000000               87396.000000  \n",
              "mean                      0.084226                   0.698567  \n",
              "std                       0.281533                   0.831946  \n",
              "min                       0.000000                   0.000000  \n",
              "25%                       0.000000                   0.000000  \n",
              "50%                       0.000000                   0.000000  \n",
              "75%                       0.000000                   1.000000  \n",
              "max                       8.000000                   5.000000  "
            ],
            "text/html": [
              "\n",
              "\n",
              "  <div id=\"df-9bfbab0f-284c-413a-8432-efebe0a7fe6c\">\n",
              "    <div class=\"colab-df-container\">\n",
              "      <div>\n",
              "<style scoped>\n",
              "    .dataframe tbody tr th:only-of-type {\n",
              "        vertical-align: middle;\n",
              "    }\n",
              "\n",
              "    .dataframe tbody tr th {\n",
              "        vertical-align: top;\n",
              "    }\n",
              "\n",
              "    .dataframe thead th {\n",
              "        text-align: right;\n",
              "    }\n",
              "</style>\n",
              "<table border=\"1\" class=\"dataframe\">\n",
              "  <thead>\n",
              "    <tr style=\"text-align: right;\">\n",
              "      <th></th>\n",
              "      <th>is_canceled</th>\n",
              "      <th>lead_time</th>\n",
              "      <th>arrival_date_year</th>\n",
              "      <th>arrival_date_week_number</th>\n",
              "      <th>arrival_date_day_of_month</th>\n",
              "      <th>stays_in_weekend_nights</th>\n",
              "      <th>stays_in_week_nights</th>\n",
              "      <th>adults</th>\n",
              "      <th>children</th>\n",
              "      <th>babies</th>\n",
              "      <th>is_repeated_guest</th>\n",
              "      <th>previous_cancellations</th>\n",
              "      <th>previous_bookings_not_canceled</th>\n",
              "      <th>booking_changes</th>\n",
              "      <th>agent</th>\n",
              "      <th>company</th>\n",
              "      <th>days_in_waiting_list</th>\n",
              "      <th>adr</th>\n",
              "      <th>required_car_parking_spaces</th>\n",
              "      <th>total_of_special_requests</th>\n",
              "    </tr>\n",
              "  </thead>\n",
              "  <tbody>\n",
              "    <tr>\n",
              "      <th>count</th>\n",
              "      <td>87396.000000</td>\n",
              "      <td>87396.000000</td>\n",
              "      <td>87396.000000</td>\n",
              "      <td>87396.000000</td>\n",
              "      <td>87396.000000</td>\n",
              "      <td>87396.000000</td>\n",
              "      <td>87396.000000</td>\n",
              "      <td>87396.000000</td>\n",
              "      <td>87392.000000</td>\n",
              "      <td>87396.000000</td>\n",
              "      <td>87396.000000</td>\n",
              "      <td>87396.000000</td>\n",
              "      <td>87396.000000</td>\n",
              "      <td>87396.000000</td>\n",
              "      <td>75203.000000</td>\n",
              "      <td>5259.000000</td>\n",
              "      <td>87396.000000</td>\n",
              "      <td>87396.000000</td>\n",
              "      <td>87396.000000</td>\n",
              "      <td>87396.000000</td>\n",
              "    </tr>\n",
              "    <tr>\n",
              "      <th>mean</th>\n",
              "      <td>0.274898</td>\n",
              "      <td>79.891368</td>\n",
              "      <td>2016.210296</td>\n",
              "      <td>26.838334</td>\n",
              "      <td>15.815541</td>\n",
              "      <td>1.005263</td>\n",
              "      <td>2.625395</td>\n",
              "      <td>1.875795</td>\n",
              "      <td>0.138640</td>\n",
              "      <td>0.010824</td>\n",
              "      <td>0.039075</td>\n",
              "      <td>0.030413</td>\n",
              "      <td>0.183990</td>\n",
              "      <td>0.271603</td>\n",
              "      <td>94.138306</td>\n",
              "      <td>183.081384</td>\n",
              "      <td>0.749565</td>\n",
              "      <td>106.337246</td>\n",
              "      <td>0.084226</td>\n",
              "      <td>0.698567</td>\n",
              "    </tr>\n",
              "    <tr>\n",
              "      <th>std</th>\n",
              "      <td>0.446466</td>\n",
              "      <td>86.052325</td>\n",
              "      <td>0.686102</td>\n",
              "      <td>13.674572</td>\n",
              "      <td>8.835146</td>\n",
              "      <td>1.031921</td>\n",
              "      <td>2.053584</td>\n",
              "      <td>0.626500</td>\n",
              "      <td>0.455881</td>\n",
              "      <td>0.113597</td>\n",
              "      <td>0.193775</td>\n",
              "      <td>0.369145</td>\n",
              "      <td>1.731894</td>\n",
              "      <td>0.727245</td>\n",
              "      <td>113.188172</td>\n",
              "      <td>130.557608</td>\n",
              "      <td>10.015731</td>\n",
              "      <td>55.013953</td>\n",
              "      <td>0.281533</td>\n",
              "      <td>0.831946</td>\n",
              "    </tr>\n",
              "    <tr>\n",
              "      <th>min</th>\n",
              "      <td>0.000000</td>\n",
              "      <td>0.000000</td>\n",
              "      <td>2015.000000</td>\n",
              "      <td>1.000000</td>\n",
              "      <td>1.000000</td>\n",
              "      <td>0.000000</td>\n",
              "      <td>0.000000</td>\n",
              "      <td>0.000000</td>\n",
              "      <td>0.000000</td>\n",
              "      <td>0.000000</td>\n",
              "      <td>0.000000</td>\n",
              "      <td>0.000000</td>\n",
              "      <td>0.000000</td>\n",
              "      <td>0.000000</td>\n",
              "      <td>1.000000</td>\n",
              "      <td>6.000000</td>\n",
              "      <td>0.000000</td>\n",
              "      <td>-6.380000</td>\n",
              "      <td>0.000000</td>\n",
              "      <td>0.000000</td>\n",
              "    </tr>\n",
              "    <tr>\n",
              "      <th>25%</th>\n",
              "      <td>0.000000</td>\n",
              "      <td>11.000000</td>\n",
              "      <td>2016.000000</td>\n",
              "      <td>16.000000</td>\n",
              "      <td>8.000000</td>\n",
              "      <td>0.000000</td>\n",
              "      <td>1.000000</td>\n",
              "      <td>2.000000</td>\n",
              "      <td>0.000000</td>\n",
              "      <td>0.000000</td>\n",
              "      <td>0.000000</td>\n",
              "      <td>0.000000</td>\n",
              "      <td>0.000000</td>\n",
              "      <td>0.000000</td>\n",
              "      <td>9.000000</td>\n",
              "      <td>47.000000</td>\n",
              "      <td>0.000000</td>\n",
              "      <td>72.000000</td>\n",
              "      <td>0.000000</td>\n",
              "      <td>0.000000</td>\n",
              "    </tr>\n",
              "    <tr>\n",
              "      <th>50%</th>\n",
              "      <td>0.000000</td>\n",
              "      <td>49.000000</td>\n",
              "      <td>2016.000000</td>\n",
              "      <td>27.000000</td>\n",
              "      <td>16.000000</td>\n",
              "      <td>1.000000</td>\n",
              "      <td>2.000000</td>\n",
              "      <td>2.000000</td>\n",
              "      <td>0.000000</td>\n",
              "      <td>0.000000</td>\n",
              "      <td>0.000000</td>\n",
              "      <td>0.000000</td>\n",
              "      <td>0.000000</td>\n",
              "      <td>0.000000</td>\n",
              "      <td>14.000000</td>\n",
              "      <td>169.000000</td>\n",
              "      <td>0.000000</td>\n",
              "      <td>98.100000</td>\n",
              "      <td>0.000000</td>\n",
              "      <td>0.000000</td>\n",
              "    </tr>\n",
              "    <tr>\n",
              "      <th>75%</th>\n",
              "      <td>1.000000</td>\n",
              "      <td>125.000000</td>\n",
              "      <td>2017.000000</td>\n",
              "      <td>37.000000</td>\n",
              "      <td>23.000000</td>\n",
              "      <td>2.000000</td>\n",
              "      <td>4.000000</td>\n",
              "      <td>2.000000</td>\n",
              "      <td>0.000000</td>\n",
              "      <td>0.000000</td>\n",
              "      <td>0.000000</td>\n",
              "      <td>0.000000</td>\n",
              "      <td>0.000000</td>\n",
              "      <td>0.000000</td>\n",
              "      <td>240.000000</td>\n",
              "      <td>263.000000</td>\n",
              "      <td>0.000000</td>\n",
              "      <td>134.000000</td>\n",
              "      <td>0.000000</td>\n",
              "      <td>1.000000</td>\n",
              "    </tr>\n",
              "    <tr>\n",
              "      <th>max</th>\n",
              "      <td>1.000000</td>\n",
              "      <td>737.000000</td>\n",
              "      <td>2017.000000</td>\n",
              "      <td>53.000000</td>\n",
              "      <td>31.000000</td>\n",
              "      <td>19.000000</td>\n",
              "      <td>50.000000</td>\n",
              "      <td>55.000000</td>\n",
              "      <td>10.000000</td>\n",
              "      <td>10.000000</td>\n",
              "      <td>1.000000</td>\n",
              "      <td>26.000000</td>\n",
              "      <td>72.000000</td>\n",
              "      <td>21.000000</td>\n",
              "      <td>535.000000</td>\n",
              "      <td>543.000000</td>\n",
              "      <td>391.000000</td>\n",
              "      <td>5400.000000</td>\n",
              "      <td>8.000000</td>\n",
              "      <td>5.000000</td>\n",
              "    </tr>\n",
              "  </tbody>\n",
              "</table>\n",
              "</div>\n",
              "      <button class=\"colab-df-convert\" onclick=\"convertToInteractive('df-9bfbab0f-284c-413a-8432-efebe0a7fe6c')\"\n",
              "              title=\"Convert this dataframe to an interactive table.\"\n",
              "              style=\"display:none;\">\n",
              "\n",
              "  <svg xmlns=\"http://www.w3.org/2000/svg\" height=\"24px\"viewBox=\"0 0 24 24\"\n",
              "       width=\"24px\">\n",
              "    <path d=\"M0 0h24v24H0V0z\" fill=\"none\"/>\n",
              "    <path d=\"M18.56 5.44l.94 2.06.94-2.06 2.06-.94-2.06-.94-.94-2.06-.94 2.06-2.06.94zm-11 1L8.5 8.5l.94-2.06 2.06-.94-2.06-.94L8.5 2.5l-.94 2.06-2.06.94zm10 10l.94 2.06.94-2.06 2.06-.94-2.06-.94-.94-2.06-.94 2.06-2.06.94z\"/><path d=\"M17.41 7.96l-1.37-1.37c-.4-.4-.92-.59-1.43-.59-.52 0-1.04.2-1.43.59L10.3 9.45l-7.72 7.72c-.78.78-.78 2.05 0 2.83L4 21.41c.39.39.9.59 1.41.59.51 0 1.02-.2 1.41-.59l7.78-7.78 2.81-2.81c.8-.78.8-2.07 0-2.86zM5.41 20L4 18.59l7.72-7.72 1.47 1.35L5.41 20z\"/>\n",
              "  </svg>\n",
              "      </button>\n",
              "\n",
              "\n",
              "\n",
              "    <div id=\"df-b2f10762-8c3c-46da-813e-1b42924c25b9\">\n",
              "      <button class=\"colab-df-quickchart\" onclick=\"quickchart('df-b2f10762-8c3c-46da-813e-1b42924c25b9')\"\n",
              "              title=\"Suggest charts.\"\n",
              "              style=\"display:none;\">\n",
              "\n",
              "<svg xmlns=\"http://www.w3.org/2000/svg\" height=\"24px\"viewBox=\"0 0 24 24\"\n",
              "     width=\"24px\">\n",
              "    <g>\n",
              "        <path d=\"M19 3H5c-1.1 0-2 .9-2 2v14c0 1.1.9 2 2 2h14c1.1 0 2-.9 2-2V5c0-1.1-.9-2-2-2zM9 17H7v-7h2v7zm4 0h-2V7h2v10zm4 0h-2v-4h2v4z\"/>\n",
              "    </g>\n",
              "</svg>\n",
              "      </button>\n",
              "    </div>\n",
              "\n",
              "<style>\n",
              "  .colab-df-quickchart {\n",
              "    background-color: #E8F0FE;\n",
              "    border: none;\n",
              "    border-radius: 50%;\n",
              "    cursor: pointer;\n",
              "    display: none;\n",
              "    fill: #1967D2;\n",
              "    height: 32px;\n",
              "    padding: 0 0 0 0;\n",
              "    width: 32px;\n",
              "  }\n",
              "\n",
              "  .colab-df-quickchart:hover {\n",
              "    background-color: #E2EBFA;\n",
              "    box-shadow: 0px 1px 2px rgba(60, 64, 67, 0.3), 0px 1px 3px 1px rgba(60, 64, 67, 0.15);\n",
              "    fill: #174EA6;\n",
              "  }\n",
              "\n",
              "  [theme=dark] .colab-df-quickchart {\n",
              "    background-color: #3B4455;\n",
              "    fill: #D2E3FC;\n",
              "  }\n",
              "\n",
              "  [theme=dark] .colab-df-quickchart:hover {\n",
              "    background-color: #434B5C;\n",
              "    box-shadow: 0px 1px 3px 1px rgba(0, 0, 0, 0.15);\n",
              "    filter: drop-shadow(0px 1px 2px rgba(0, 0, 0, 0.3));\n",
              "    fill: #FFFFFF;\n",
              "  }\n",
              "</style>\n",
              "\n",
              "    <script>\n",
              "      async function quickchart(key) {\n",
              "        const containerElement = document.querySelector('#' + key);\n",
              "        const charts = await google.colab.kernel.invokeFunction(\n",
              "            'suggestCharts', [key], {});\n",
              "      }\n",
              "    </script>\n",
              "\n",
              "      <script>\n",
              "\n",
              "function displayQuickchartButton(domScope) {\n",
              "  let quickchartButtonEl =\n",
              "    domScope.querySelector('#df-b2f10762-8c3c-46da-813e-1b42924c25b9 button.colab-df-quickchart');\n",
              "  quickchartButtonEl.style.display =\n",
              "    google.colab.kernel.accessAllowed ? 'block' : 'none';\n",
              "}\n",
              "\n",
              "        displayQuickchartButton(document);\n",
              "      </script>\n",
              "      <style>\n",
              "    .colab-df-container {\n",
              "      display:flex;\n",
              "      flex-wrap:wrap;\n",
              "      gap: 12px;\n",
              "    }\n",
              "\n",
              "    .colab-df-convert {\n",
              "      background-color: #E8F0FE;\n",
              "      border: none;\n",
              "      border-radius: 50%;\n",
              "      cursor: pointer;\n",
              "      display: none;\n",
              "      fill: #1967D2;\n",
              "      height: 32px;\n",
              "      padding: 0 0 0 0;\n",
              "      width: 32px;\n",
              "    }\n",
              "\n",
              "    .colab-df-convert:hover {\n",
              "      background-color: #E2EBFA;\n",
              "      box-shadow: 0px 1px 2px rgba(60, 64, 67, 0.3), 0px 1px 3px 1px rgba(60, 64, 67, 0.15);\n",
              "      fill: #174EA6;\n",
              "    }\n",
              "\n",
              "    [theme=dark] .colab-df-convert {\n",
              "      background-color: #3B4455;\n",
              "      fill: #D2E3FC;\n",
              "    }\n",
              "\n",
              "    [theme=dark] .colab-df-convert:hover {\n",
              "      background-color: #434B5C;\n",
              "      box-shadow: 0px 1px 3px 1px rgba(0, 0, 0, 0.15);\n",
              "      filter: drop-shadow(0px 1px 2px rgba(0, 0, 0, 0.3));\n",
              "      fill: #FFFFFF;\n",
              "    }\n",
              "  </style>\n",
              "\n",
              "      <script>\n",
              "        const buttonEl =\n",
              "          document.querySelector('#df-9bfbab0f-284c-413a-8432-efebe0a7fe6c button.colab-df-convert');\n",
              "        buttonEl.style.display =\n",
              "          google.colab.kernel.accessAllowed ? 'block' : 'none';\n",
              "\n",
              "        async function convertToInteractive(key) {\n",
              "          const element = document.querySelector('#df-9bfbab0f-284c-413a-8432-efebe0a7fe6c');\n",
              "          const dataTable =\n",
              "            await google.colab.kernel.invokeFunction('convertToInteractive',\n",
              "                                                     [key], {});\n",
              "          if (!dataTable) return;\n",
              "\n",
              "          const docLinkHtml = 'Like what you see? Visit the ' +\n",
              "            '<a target=\"_blank\" href=https://colab.research.google.com/notebooks/data_table.ipynb>data table notebook</a>'\n",
              "            + ' to learn more about interactive tables.';\n",
              "          element.innerHTML = '';\n",
              "          dataTable['output_type'] = 'display_data';\n",
              "          await google.colab.output.renderOutput(dataTable, element);\n",
              "          const docLink = document.createElement('div');\n",
              "          docLink.innerHTML = docLinkHtml;\n",
              "          element.appendChild(docLink);\n",
              "        }\n",
              "      </script>\n",
              "    </div>\n",
              "  </div>\n"
            ]
          },
          "metadata": {},
          "execution_count": 40
        }
      ]
    },
    {
      "cell_type": "markdown",
      "source": [
        "### Variables Description"
      ],
      "metadata": {
        "id": "PBTbrJXOngz2"
      }
    },
    {
      "cell_type": "markdown",
      "source": [
        "The fields/columns and the data it represents are listed below:"
      ],
      "metadata": {
        "id": "aJV4KIxSnxay"
      }
    },
    {
      "cell_type": "markdown",
      "source": [
        "![12.png](data:image/png;base64,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)\n",
        "\n"
      ],
      "metadata": {
        "id": "I93TTtn1AcNL"
      }
    },
    {
      "cell_type": "markdown",
      "source": [
        "![download (1).png](data:image/png;base64,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)"
      ],
      "metadata": {
        "id": "dIu7VbR6A5nY"
      }
    },
    {
      "cell_type": "markdown",
      "source": [
        "### Check Unique Values for each variable."
      ],
      "metadata": {
        "id": "u3PMJOP6ngxN"
      }
    },
    {
      "cell_type": "code",
      "source": [
        "# Check Unique Values for each variable.\n",
        "hotel_booking_analysis_df.apply(lambda column: column.unique())"
      ],
      "metadata": {
        "id": "zms12Yq5n-jE",
        "colab": {
          "base_uri": "https://localhost:8080/"
        },
        "outputId": "5faeeb83-93ae-444c-a1cb-5e945cf4e373"
      },
      "execution_count": 41,
      "outputs": [
        {
          "output_type": "execute_result",
          "data": {
            "text/plain": [
              "hotel                                                    [Resort Hotel, City Hotel]\n",
              "is_canceled                                                                  [0, 1]\n",
              "lead_time                         [342, 737, 7, 13, 14, 0, 9, 85, 75, 23, 35, 68...\n",
              "arrival_date_year                                                [2015, 2016, 2017]\n",
              "arrival_date_month                [July, August, September, October, November, D...\n",
              "arrival_date_week_number          [27, 28, 29, 30, 31, 32, 33, 34, 35, 36, 37, 3...\n",
              "arrival_date_day_of_month         [1, 2, 3, 4, 5, 6, 7, 8, 9, 10, 11, 12, 13, 14...\n",
              "stays_in_weekend_nights           [0, 1, 2, 4, 3, 6, 13, 8, 5, 7, 12, 9, 16, 18,...\n",
              "stays_in_week_nights              [0, 1, 2, 3, 4, 5, 10, 11, 8, 6, 7, 15, 9, 12,...\n",
              "adults                            [2, 1, 3, 4, 40, 26, 50, 27, 55, 0, 20, 6, 5, 10]\n",
              "children                                            [0.0, 1.0, 2.0, 10.0, 3.0, nan]\n",
              "babies                                                             [0, 1, 2, 10, 9]\n",
              "meal                                                    [BB, FB, HB, SC, Undefined]\n",
              "country                           [PRT, GBR, USA, ESP, IRL, FRA, nan, ROU, NOR, ...\n",
              "market_segment                    [Direct, Corporate, Online TA, Offline TA/TO, ...\n",
              "distribution_channel                     [Direct, Corporate, TA/TO, Undefined, GDS]\n",
              "is_repeated_guest                                                            [0, 1]\n",
              "previous_cancellations            [0, 1, 2, 3, 26, 25, 14, 4, 24, 19, 5, 21, 6, ...\n",
              "previous_bookings_not_canceled    [0, 1, 2, 3, 4, 5, 6, 7, 8, 9, 10, 11, 12, 13,...\n",
              "reserved_room_type                                   [C, A, D, E, G, F, H, L, P, B]\n",
              "assigned_room_type                             [C, A, D, E, G, F, I, B, H, P, L, K]\n",
              "booking_changes                   [3, 4, 0, 1, 2, 5, 17, 6, 8, 7, 10, 16, 9, 13,...\n",
              "deposit_type                                   [No Deposit, Refundable, Non Refund]\n",
              "agent                             [nan, 304.0, 240.0, 303.0, 15.0, 241.0, 8.0, 2...\n",
              "company                           [nan, 110.0, 113.0, 270.0, 178.0, 240.0, 154.0...\n",
              "days_in_waiting_list              [0, 50, 47, 65, 122, 75, 101, 150, 125, 14, 60...\n",
              "customer_type                         [Transient, Contract, Transient-Party, Group]\n",
              "adr                               [0.0, 75.0, 98.0, 107.0, 103.0, 82.0, 105.5, 1...\n",
              "required_car_parking_spaces                                         [0, 1, 2, 8, 3]\n",
              "total_of_special_requests                                        [0, 1, 3, 2, 4, 5]\n",
              "reservation_status                                   [Check-Out, Canceled, No-Show]\n",
              "reservation_status_date           [2015-07-01, 2015-07-02, 2015-07-03, 2015-05-0...\n",
              "dtype: object"
            ]
          },
          "metadata": {},
          "execution_count": 41
        }
      ]
    },
    {
      "cell_type": "markdown",
      "source": [
        "## 3. ***Data Wrangling***"
      ],
      "metadata": {
        "id": "dauF4eBmngu3"
      }
    },
    {
      "cell_type": "markdown",
      "source": [
        "### Data Wrangling Code"
      ],
      "metadata": {
        "id": "bKJF3rekwFvQ"
      }
    },
    {
      "cell_type": "code",
      "source": [
        "# Write your code to make your dataset analysis ready.\n",
        "\n",
        "# missing value data\n",
        "missing_values[:4]\n"
      ],
      "metadata": {
        "id": "wk-9a2fpoLcV",
        "colab": {
          "base_uri": "https://localhost:8080/"
        },
        "outputId": "23fa4b75-f984-492f-a11e-593f3c6406d7"
      },
      "execution_count": 42,
      "outputs": [
        {
          "output_type": "execute_result",
          "data": {
            "text/plain": [
              "company     82137\n",
              "agent       12193\n",
              "country       452\n",
              "children        4\n",
              "dtype: int64"
            ]
          },
          "metadata": {},
          "execution_count": 42
        }
      ]
    },
    {
      "cell_type": "code",
      "source": [
        "percent_of_company_null_value = missing_values[0] / unique_count_of_rows * 100\n",
        "percent_of_company_null_value"
      ],
      "metadata": {
        "colab": {
          "base_uri": "https://localhost:8080/"
        },
        "id": "yjEsHXaaBWZz",
        "outputId": "665c5b62-5623-4436-bc0f-53c2bf702865"
      },
      "execution_count": 43,
      "outputs": [
        {
          "output_type": "execute_result",
          "data": {
            "text/plain": [
              "93.98256213098998"
            ]
          },
          "metadata": {},
          "execution_count": 43
        }
      ]
    },
    {
      "cell_type": "code",
      "source": [
        "percent_of_agent_null_value = missing_values[1] / unique_count_of_rows * 100\n",
        "percent_of_agent_null_value"
      ],
      "metadata": {
        "colab": {
          "base_uri": "https://localhost:8080/"
        },
        "id": "cUD7zDneBaOA",
        "outputId": "0cf23789-f383-4994-daaf-b323ef92ea24"
      },
      "execution_count": 44,
      "outputs": [
        {
          "output_type": "execute_result",
          "data": {
            "text/plain": [
              "13.951439425145315"
            ]
          },
          "metadata": {},
          "execution_count": 44
        }
      ]
    },
    {
      "cell_type": "code",
      "source": [
        "percent_of_children_null_value = missing_values[2] / unique_count_of_rows * 100\n",
        "percent_of_children_null_value"
      ],
      "metadata": {
        "colab": {
          "base_uri": "https://localhost:8080/"
        },
        "id": "TX7PRdBYBecS",
        "outputId": "df6a1cf7-b241-4fde-9a63-d520cb5a06b3"
      },
      "execution_count": 45,
      "outputs": [
        {
          "output_type": "execute_result",
          "data": {
            "text/plain": [
              "0.5171861412421621"
            ]
          },
          "metadata": {},
          "execution_count": 45
        }
      ]
    },
    {
      "cell_type": "code",
      "source": [
        "percent_of_country_null_value = missing_values[3] / unique_count_of_rows * 100\n",
        "percent_of_country_null_value"
      ],
      "metadata": {
        "colab": {
          "base_uri": "https://localhost:8080/"
        },
        "id": "DNbyHbLSBgpW",
        "outputId": "bb1dc49d-b893-4b4d-b570-fc1d7d55a200"
      },
      "execution_count": 46,
      "outputs": [
        {
          "output_type": "execute_result",
          "data": {
            "text/plain": [
              "0.004576868506567806"
            ]
          },
          "metadata": {},
          "execution_count": 46
        }
      ]
    },
    {
      "cell_type": "code",
      "source": [
        "# we have less null value in country column so we will replace it by 'other'\n",
        "\n",
        "# Replacing null values of company, agent and children columns with value 0 and country column as other\n",
        "hotel_booking_analysis_df[['company', 'agent', 'children']] = hotel_booking_analysis_df[['company', 'agent', 'children']].fillna(0)\n",
        "hotel_booking_analysis_df[['country']] = hotel_booking_analysis_df[['country']].fillna('other')"
      ],
      "metadata": {
        "id": "XQY3BAULBytD"
      },
      "execution_count": 47,
      "outputs": []
    },
    {
      "cell_type": "code",
      "source": [
        "# now checking that database has any null or not\n",
        "hotel_booking_analysis_df.isnull().sum()"
      ],
      "metadata": {
        "colab": {
          "base_uri": "https://localhost:8080/"
        },
        "id": "y6LhXR3gB2rk",
        "outputId": "bd2bef8e-7c54-4046-be26-7929a79ad7fc"
      },
      "execution_count": 48,
      "outputs": [
        {
          "output_type": "execute_result",
          "data": {
            "text/plain": [
              "hotel                             0\n",
              "is_canceled                       0\n",
              "lead_time                         0\n",
              "arrival_date_year                 0\n",
              "arrival_date_month                0\n",
              "arrival_date_week_number          0\n",
              "arrival_date_day_of_month         0\n",
              "stays_in_weekend_nights           0\n",
              "stays_in_week_nights              0\n",
              "adults                            0\n",
              "children                          0\n",
              "babies                            0\n",
              "meal                              0\n",
              "country                           0\n",
              "market_segment                    0\n",
              "distribution_channel              0\n",
              "is_repeated_guest                 0\n",
              "previous_cancellations            0\n",
              "previous_bookings_not_canceled    0\n",
              "reserved_room_type                0\n",
              "assigned_room_type                0\n",
              "booking_changes                   0\n",
              "deposit_type                      0\n",
              "agent                             0\n",
              "company                           0\n",
              "days_in_waiting_list              0\n",
              "customer_type                     0\n",
              "adr                               0\n",
              "required_car_parking_spaces       0\n",
              "total_of_special_requests         0\n",
              "reservation_status                0\n",
              "reservation_status_date           0\n",
              "dtype: int64"
            ]
          },
          "metadata": {},
          "execution_count": 48
        }
      ]
    },
    {
      "cell_type": "markdown",
      "source": [
        "**Change in datatype for required column**"
      ],
      "metadata": {
        "id": "nNPuU5fhB7JJ"
      }
    },
    {
      "cell_type": "code",
      "source": [
        "#check data type of columns if there were any changes required then we will do that\n",
        "hotel_booking_analysis_df.info()"
      ],
      "metadata": {
        "colab": {
          "base_uri": "https://localhost:8080/"
        },
        "id": "_KgFpNEcB-8d",
        "outputId": "96fd2a68-a838-44de-eb31-b48f2dfd65d0"
      },
      "execution_count": 49,
      "outputs": [
        {
          "output_type": "stream",
          "name": "stdout",
          "text": [
            "<class 'pandas.core.frame.DataFrame'>\n",
            "Int64Index: 87396 entries, 0 to 119389\n",
            "Data columns (total 32 columns):\n",
            " #   Column                          Non-Null Count  Dtype  \n",
            "---  ------                          --------------  -----  \n",
            " 0   hotel                           87396 non-null  object \n",
            " 1   is_canceled                     87396 non-null  int64  \n",
            " 2   lead_time                       87396 non-null  int64  \n",
            " 3   arrival_date_year               87396 non-null  int64  \n",
            " 4   arrival_date_month              87396 non-null  object \n",
            " 5   arrival_date_week_number        87396 non-null  int64  \n",
            " 6   arrival_date_day_of_month       87396 non-null  int64  \n",
            " 7   stays_in_weekend_nights         87396 non-null  int64  \n",
            " 8   stays_in_week_nights            87396 non-null  int64  \n",
            " 9   adults                          87396 non-null  int64  \n",
            " 10  children                        87396 non-null  float64\n",
            " 11  babies                          87396 non-null  int64  \n",
            " 12  meal                            87396 non-null  object \n",
            " 13  country                         87396 non-null  object \n",
            " 14  market_segment                  87396 non-null  object \n",
            " 15  distribution_channel            87396 non-null  object \n",
            " 16  is_repeated_guest               87396 non-null  int64  \n",
            " 17  previous_cancellations          87396 non-null  int64  \n",
            " 18  previous_bookings_not_canceled  87396 non-null  int64  \n",
            " 19  reserved_room_type              87396 non-null  object \n",
            " 20  assigned_room_type              87396 non-null  object \n",
            " 21  booking_changes                 87396 non-null  int64  \n",
            " 22  deposit_type                    87396 non-null  object \n",
            " 23  agent                           87396 non-null  float64\n",
            " 24  company                         87396 non-null  float64\n",
            " 25  days_in_waiting_list            87396 non-null  int64  \n",
            " 26  customer_type                   87396 non-null  object \n",
            " 27  adr                             87396 non-null  float64\n",
            " 28  required_car_parking_spaces     87396 non-null  int64  \n",
            " 29  total_of_special_requests       87396 non-null  int64  \n",
            " 30  reservation_status              87396 non-null  object \n",
            " 31  reservation_status_date         87396 non-null  object \n",
            "dtypes: float64(4), int64(16), object(12)\n",
            "memory usage: 22.0+ MB\n"
          ]
        }
      ]
    },
    {
      "cell_type": "code",
      "source": [
        "# changing data type of some columns\n",
        "\n",
        "hotel_booking_analysis_df[['children', 'agent']] = hotel_booking_analysis_df[['children', 'agent']].astype('int64')"
      ],
      "metadata": {
        "id": "RiowmVgyCN1g"
      },
      "execution_count": 50,
      "outputs": []
    },
    {
      "cell_type": "markdown",
      "source": [
        "## **Adding some new column as per requirements**"
      ],
      "metadata": {
        "id": "-mzQvZDpCTug"
      }
    },
    {
      "cell_type": "markdown",
      "source": [
        "#### Data of Total stays at night"
      ],
      "metadata": {
        "id": "o-Jm1wsFCYEP"
      }
    },
    {
      "cell_type": "code",
      "source": [
        "#total night stay\n",
        "hotel_booking_analysis_df[\"total_night_stay\"] = hotel_booking_analysis_df['stays_in_weekend_nights'] + hotel_booking_analysis_df['stays_in_week_nights']\n",
        "\n",
        "hotel_booking_analysis_df[\"total_night_stay\"]"
      ],
      "metadata": {
        "colab": {
          "base_uri": "https://localhost:8080/"
        },
        "id": "qwwwbV_hCcoe",
        "outputId": "6f5449f9-999a-4619-f4aa-9c3847b60a0e"
      },
      "execution_count": 51,
      "outputs": [
        {
          "output_type": "execute_result",
          "data": {
            "text/plain": [
              "0         0\n",
              "1         0\n",
              "2         1\n",
              "3         1\n",
              "4         2\n",
              "         ..\n",
              "119385    7\n",
              "119386    7\n",
              "119387    7\n",
              "119388    7\n",
              "119389    9\n",
              "Name: total_night_stay, Length: 87396, dtype: int64"
            ]
          },
          "metadata": {},
          "execution_count": 51
        }
      ]
    },
    {
      "cell_type": "markdown",
      "source": [
        "### What all manipulations have you done and insights you found?"
      ],
      "metadata": {
        "id": "MSa1f5Uengrz"
      }
    },
    {
      "cell_type": "markdown",
      "source": [
        "Answer Here."
      ],
      "metadata": {
        "id": "LbyXE7I1olp8"
      }
    },
    {
      "cell_type": "markdown",
      "source": [
        "## ***4. Data Vizualization, Storytelling & Experimenting with charts : Understand the relationships between variables***"
      ],
      "metadata": {
        "id": "GF8Ens_Soomf"
      }
    },
    {
      "cell_type": "markdown",
      "source": [
        "#### Chart - 1"
      ],
      "metadata": {
        "id": "0wOQAZs5pc--"
      }
    },
    {
      "cell_type": "code",
      "source": [
        "# Chart - 1 visualization code"
      ],
      "metadata": {
        "id": "7v_ESjsspbW7"
      },
      "execution_count": 20,
      "outputs": []
    },
    {
      "cell_type": "markdown",
      "source": [
        "##### 1. Why did you pick the specific chart?"
      ],
      "metadata": {
        "id": "K5QZ13OEpz2H"
      }
    },
    {
      "cell_type": "markdown",
      "source": [
        "Answer Here."
      ],
      "metadata": {
        "id": "XESiWehPqBRc"
      }
    },
    {
      "cell_type": "markdown",
      "source": [
        "##### 2. What is/are the insight(s) found from the chart?"
      ],
      "metadata": {
        "id": "lQ7QKXXCp7Bj"
      }
    },
    {
      "cell_type": "markdown",
      "source": [
        "Answer Here"
      ],
      "metadata": {
        "id": "C_j1G7yiqdRP"
      }
    },
    {
      "cell_type": "markdown",
      "source": [
        "##### 3. Will the gained insights help creating a positive business impact?\n",
        "Are there any insights that lead to negative growth? Justify with specific reason."
      ],
      "metadata": {
        "id": "448CDAPjqfQr"
      }
    },
    {
      "cell_type": "markdown",
      "source": [
        "Answer Here"
      ],
      "metadata": {
        "id": "3cspy4FjqxJW"
      }
    },
    {
      "cell_type": "markdown",
      "source": [
        "#### Chart - 2"
      ],
      "metadata": {
        "id": "KSlN3yHqYklG"
      }
    },
    {
      "cell_type": "code",
      "source": [
        "# Chart - 2 visualization code"
      ],
      "metadata": {
        "id": "R4YgtaqtYklH"
      },
      "execution_count": 21,
      "outputs": []
    },
    {
      "cell_type": "markdown",
      "source": [
        "##### 1. Why did you pick the specific chart?"
      ],
      "metadata": {
        "id": "t6dVpIINYklI"
      }
    },
    {
      "cell_type": "markdown",
      "source": [
        "Answer Here."
      ],
      "metadata": {
        "id": "5aaW0BYyYklI"
      }
    },
    {
      "cell_type": "markdown",
      "source": [
        "##### 2. What is/are the insight(s) found from the chart?"
      ],
      "metadata": {
        "id": "ijmpgYnKYklI"
      }
    },
    {
      "cell_type": "markdown",
      "source": [
        "Answer Here"
      ],
      "metadata": {
        "id": "PSx9atu2YklI"
      }
    },
    {
      "cell_type": "markdown",
      "source": [
        "##### 3. Will the gained insights help creating a positive business impact?\n",
        "Are there any insights that lead to negative growth? Justify with specific reason."
      ],
      "metadata": {
        "id": "-JiQyfWJYklI"
      }
    },
    {
      "cell_type": "markdown",
      "source": [
        "Answer Here"
      ],
      "metadata": {
        "id": "BcBbebzrYklV"
      }
    },
    {
      "cell_type": "markdown",
      "source": [
        "#### Chart - 3"
      ],
      "metadata": {
        "id": "EM7whBJCYoAo"
      }
    },
    {
      "cell_type": "code",
      "source": [
        "# Chart - 3 visualization code"
      ],
      "metadata": {
        "id": "t6GMdE67YoAp"
      },
      "execution_count": 22,
      "outputs": []
    },
    {
      "cell_type": "markdown",
      "source": [
        "##### 1. Why did you pick the specific chart?"
      ],
      "metadata": {
        "id": "fge-S5ZAYoAp"
      }
    },
    {
      "cell_type": "markdown",
      "source": [
        "Answer Here."
      ],
      "metadata": {
        "id": "5dBItgRVYoAp"
      }
    },
    {
      "cell_type": "markdown",
      "source": [
        "##### 2. What is/are the insight(s) found from the chart?"
      ],
      "metadata": {
        "id": "85gYPyotYoAp"
      }
    },
    {
      "cell_type": "markdown",
      "source": [
        "Answer Here"
      ],
      "metadata": {
        "id": "4jstXR6OYoAp"
      }
    },
    {
      "cell_type": "markdown",
      "source": [
        "##### 3. Will the gained insights help creating a positive business impact?\n",
        "Are there any insights that lead to negative growth? Justify with specific reason."
      ],
      "metadata": {
        "id": "RoGjAbkUYoAp"
      }
    },
    {
      "cell_type": "markdown",
      "source": [
        "Answer Here"
      ],
      "metadata": {
        "id": "zfJ8IqMcYoAp"
      }
    },
    {
      "cell_type": "markdown",
      "source": [
        "#### Chart - 4"
      ],
      "metadata": {
        "id": "4Of9eVA-YrdM"
      }
    },
    {
      "cell_type": "code",
      "source": [
        "# Chart - 4 visualization code"
      ],
      "metadata": {
        "id": "irlUoxc8YrdO"
      },
      "execution_count": 23,
      "outputs": []
    },
    {
      "cell_type": "markdown",
      "source": [
        "##### 1. Why did you pick the specific chart?"
      ],
      "metadata": {
        "id": "iky9q4vBYrdO"
      }
    },
    {
      "cell_type": "markdown",
      "source": [
        "Answer Here."
      ],
      "metadata": {
        "id": "aJRCwT6DYrdO"
      }
    },
    {
      "cell_type": "markdown",
      "source": [
        "##### 2. What is/are the insight(s) found from the chart?"
      ],
      "metadata": {
        "id": "F6T5p64dYrdO"
      }
    },
    {
      "cell_type": "markdown",
      "source": [
        "Answer Here"
      ],
      "metadata": {
        "id": "Xx8WAJvtYrdO"
      }
    },
    {
      "cell_type": "markdown",
      "source": [
        "##### 3. Will the gained insights help creating a positive business impact?\n",
        "Are there any insights that lead to negative growth? Justify with specific reason."
      ],
      "metadata": {
        "id": "y-Ehk30pYrdP"
      }
    },
    {
      "cell_type": "markdown",
      "source": [
        "Answer Here"
      ],
      "metadata": {
        "id": "jLNxxz7MYrdP"
      }
    },
    {
      "cell_type": "markdown",
      "source": [
        "#### Chart - 5"
      ],
      "metadata": {
        "id": "bamQiAODYuh1"
      }
    },
    {
      "cell_type": "code",
      "source": [
        "# Chart - 5 visualization code"
      ],
      "metadata": {
        "id": "TIJwrbroYuh3"
      },
      "execution_count": 24,
      "outputs": []
    },
    {
      "cell_type": "markdown",
      "source": [
        "##### 1. Why did you pick the specific chart?"
      ],
      "metadata": {
        "id": "QHF8YVU7Yuh3"
      }
    },
    {
      "cell_type": "markdown",
      "source": [
        "Answer Here."
      ],
      "metadata": {
        "id": "dcxuIMRPYuh3"
      }
    },
    {
      "cell_type": "markdown",
      "source": [
        "##### 2. What is/are the insight(s) found from the chart?"
      ],
      "metadata": {
        "id": "GwzvFGzlYuh3"
      }
    },
    {
      "cell_type": "markdown",
      "source": [
        "Answer Here"
      ],
      "metadata": {
        "id": "uyqkiB8YYuh3"
      }
    },
    {
      "cell_type": "markdown",
      "source": [
        "##### 3. Will the gained insights help creating a positive business impact?\n",
        "Are there any insights that lead to negative growth? Justify with specific reason."
      ],
      "metadata": {
        "id": "qYpmQ266Yuh3"
      }
    },
    {
      "cell_type": "markdown",
      "source": [
        "Answer Here"
      ],
      "metadata": {
        "id": "_WtzZ_hCYuh4"
      }
    },
    {
      "cell_type": "markdown",
      "source": [
        "#### Chart - 6"
      ],
      "metadata": {
        "id": "OH-pJp9IphqM"
      }
    },
    {
      "cell_type": "code",
      "source": [
        "# Chart - 6 visualization code"
      ],
      "metadata": {
        "id": "kuRf4wtuphqN"
      },
      "execution_count": 25,
      "outputs": []
    },
    {
      "cell_type": "markdown",
      "source": [
        "##### 1. Why did you pick the specific chart?"
      ],
      "metadata": {
        "id": "bbFf2-_FphqN"
      }
    },
    {
      "cell_type": "markdown",
      "source": [
        "Answer Here."
      ],
      "metadata": {
        "id": "loh7H2nzphqN"
      }
    },
    {
      "cell_type": "markdown",
      "source": [
        "##### 2. What is/are the insight(s) found from the chart?"
      ],
      "metadata": {
        "id": "_ouA3fa0phqN"
      }
    },
    {
      "cell_type": "markdown",
      "source": [
        "Answer Here"
      ],
      "metadata": {
        "id": "VECbqPI7phqN"
      }
    },
    {
      "cell_type": "markdown",
      "source": [
        "##### 3. Will the gained insights help creating a positive business impact?\n",
        "Are there any insights that lead to negative growth? Justify with specific reason."
      ],
      "metadata": {
        "id": "Seke61FWphqN"
      }
    },
    {
      "cell_type": "markdown",
      "source": [
        "Answer Here"
      ],
      "metadata": {
        "id": "DW4_bGpfphqN"
      }
    },
    {
      "cell_type": "markdown",
      "source": [
        "#### Chart - 7"
      ],
      "metadata": {
        "id": "PIIx-8_IphqN"
      }
    },
    {
      "cell_type": "code",
      "source": [
        "# Chart - 7 visualization code"
      ],
      "metadata": {
        "id": "lqAIGUfyphqO"
      },
      "execution_count": 26,
      "outputs": []
    },
    {
      "cell_type": "markdown",
      "source": [
        "##### 1. Why did you pick the specific chart?"
      ],
      "metadata": {
        "id": "t27r6nlMphqO"
      }
    },
    {
      "cell_type": "markdown",
      "source": [
        "Answer Here."
      ],
      "metadata": {
        "id": "iv6ro40sphqO"
      }
    },
    {
      "cell_type": "markdown",
      "source": [
        "##### 2. What is/are the insight(s) found from the chart?"
      ],
      "metadata": {
        "id": "r2jJGEOYphqO"
      }
    },
    {
      "cell_type": "markdown",
      "source": [
        "Answer Here"
      ],
      "metadata": {
        "id": "Po6ZPi4hphqO"
      }
    },
    {
      "cell_type": "markdown",
      "source": [
        "##### 3. Will the gained insights help creating a positive business impact?\n",
        "Are there any insights that lead to negative growth? Justify with specific reason."
      ],
      "metadata": {
        "id": "b0JNsNcRphqO"
      }
    },
    {
      "cell_type": "markdown",
      "source": [
        "Answer Here"
      ],
      "metadata": {
        "id": "xvSq8iUTphqO"
      }
    },
    {
      "cell_type": "markdown",
      "source": [
        "#### Chart - 8"
      ],
      "metadata": {
        "id": "BZR9WyysphqO"
      }
    },
    {
      "cell_type": "code",
      "source": [
        "# Chart - 8 visualization code"
      ],
      "metadata": {
        "id": "TdPTWpAVphqO"
      },
      "execution_count": 27,
      "outputs": []
    },
    {
      "cell_type": "markdown",
      "source": [
        "##### 1. Why did you pick the specific chart?"
      ],
      "metadata": {
        "id": "jj7wYXLtphqO"
      }
    },
    {
      "cell_type": "markdown",
      "source": [
        "Answer Here."
      ],
      "metadata": {
        "id": "Ob8u6rCTphqO"
      }
    },
    {
      "cell_type": "markdown",
      "source": [
        "##### 2. What is/are the insight(s) found from the chart?"
      ],
      "metadata": {
        "id": "eZrbJ2SmphqO"
      }
    },
    {
      "cell_type": "markdown",
      "source": [
        "Answer Here"
      ],
      "metadata": {
        "id": "mZtgC_hjphqO"
      }
    },
    {
      "cell_type": "markdown",
      "source": [
        "##### 3. Will the gained insights help creating a positive business impact?\n",
        "Are there any insights that lead to negative growth? Justify with specific reason."
      ],
      "metadata": {
        "id": "rFu4xreNphqO"
      }
    },
    {
      "cell_type": "markdown",
      "source": [
        "Answer Here"
      ],
      "metadata": {
        "id": "ey_0qi68phqO"
      }
    },
    {
      "cell_type": "markdown",
      "source": [
        "#### Chart - 9"
      ],
      "metadata": {
        "id": "YJ55k-q6phqO"
      }
    },
    {
      "cell_type": "code",
      "source": [
        "# Chart - 9 visualization code"
      ],
      "metadata": {
        "id": "B2aS4O1ophqO"
      },
      "execution_count": 28,
      "outputs": []
    },
    {
      "cell_type": "markdown",
      "source": [
        "##### 1. Why did you pick the specific chart?"
      ],
      "metadata": {
        "id": "gCFgpxoyphqP"
      }
    },
    {
      "cell_type": "markdown",
      "source": [
        "Answer Here."
      ],
      "metadata": {
        "id": "TVxDimi2phqP"
      }
    },
    {
      "cell_type": "markdown",
      "source": [
        "##### 2. What is/are the insight(s) found from the chart?"
      ],
      "metadata": {
        "id": "OVtJsKN_phqQ"
      }
    },
    {
      "cell_type": "markdown",
      "source": [
        "Answer Here"
      ],
      "metadata": {
        "id": "ngGi97qjphqQ"
      }
    },
    {
      "cell_type": "markdown",
      "source": [
        "##### 3. Will the gained insights help creating a positive business impact?\n",
        "Are there any insights that lead to negative growth? Justify with specific reason."
      ],
      "metadata": {
        "id": "lssrdh5qphqQ"
      }
    },
    {
      "cell_type": "markdown",
      "source": [
        "Answer Here"
      ],
      "metadata": {
        "id": "tBpY5ekJphqQ"
      }
    },
    {
      "cell_type": "markdown",
      "source": [
        "#### Chart - 10"
      ],
      "metadata": {
        "id": "U2RJ9gkRphqQ"
      }
    },
    {
      "cell_type": "code",
      "source": [
        "# Chart - 10 visualization code"
      ],
      "metadata": {
        "id": "GM7a4YP4phqQ"
      },
      "execution_count": 29,
      "outputs": []
    },
    {
      "cell_type": "markdown",
      "source": [
        "##### 1. Why did you pick the specific chart?"
      ],
      "metadata": {
        "id": "1M8mcRywphqQ"
      }
    },
    {
      "cell_type": "markdown",
      "source": [
        "Answer Here."
      ],
      "metadata": {
        "id": "8agQvks0phqQ"
      }
    },
    {
      "cell_type": "markdown",
      "source": [
        "##### 2. What is/are the insight(s) found from the chart?"
      ],
      "metadata": {
        "id": "tgIPom80phqQ"
      }
    },
    {
      "cell_type": "markdown",
      "source": [
        "Answer Here"
      ],
      "metadata": {
        "id": "Qp13pnNzphqQ"
      }
    },
    {
      "cell_type": "markdown",
      "source": [
        "##### 3. Will the gained insights help creating a positive business impact?\n",
        "Are there any insights that lead to negative growth? Justify with specific reason."
      ],
      "metadata": {
        "id": "JMzcOPDDphqR"
      }
    },
    {
      "cell_type": "markdown",
      "source": [
        "Answer Here"
      ],
      "metadata": {
        "id": "R4Ka1PC2phqR"
      }
    },
    {
      "cell_type": "markdown",
      "source": [
        "#### Chart - 11"
      ],
      "metadata": {
        "id": "x-EpHcCOp1ci"
      }
    },
    {
      "cell_type": "code",
      "source": [
        "# Chart - 11 visualization code"
      ],
      "metadata": {
        "id": "mAQTIvtqp1cj"
      },
      "execution_count": 30,
      "outputs": []
    },
    {
      "cell_type": "markdown",
      "source": [
        "##### 1. Why did you pick the specific chart?"
      ],
      "metadata": {
        "id": "X_VqEhTip1ck"
      }
    },
    {
      "cell_type": "markdown",
      "source": [
        "Answer Here."
      ],
      "metadata": {
        "id": "-vsMzt_np1ck"
      }
    },
    {
      "cell_type": "markdown",
      "source": [
        "##### 2. What is/are the insight(s) found from the chart?"
      ],
      "metadata": {
        "id": "8zGJKyg5p1ck"
      }
    },
    {
      "cell_type": "markdown",
      "source": [
        "Answer Here"
      ],
      "metadata": {
        "id": "ZYdMsrqVp1ck"
      }
    },
    {
      "cell_type": "markdown",
      "source": [
        "##### 3. Will the gained insights help creating a positive business impact?\n",
        "Are there any insights that lead to negative growth? Justify with specific reason."
      ],
      "metadata": {
        "id": "PVzmfK_Ep1ck"
      }
    },
    {
      "cell_type": "markdown",
      "source": [
        "Answer Here"
      ],
      "metadata": {
        "id": "druuKYZpp1ck"
      }
    },
    {
      "cell_type": "markdown",
      "source": [
        "#### Chart - 12"
      ],
      "metadata": {
        "id": "n3dbpmDWp1ck"
      }
    },
    {
      "cell_type": "code",
      "source": [
        "# Chart - 12 visualization code"
      ],
      "metadata": {
        "id": "bwevp1tKp1ck"
      },
      "execution_count": 31,
      "outputs": []
    },
    {
      "cell_type": "markdown",
      "source": [
        "##### 1. Why did you pick the specific chart?"
      ],
      "metadata": {
        "id": "ylSl6qgtp1ck"
      }
    },
    {
      "cell_type": "markdown",
      "source": [
        "Answer Here."
      ],
      "metadata": {
        "id": "m2xqNkiQp1ck"
      }
    },
    {
      "cell_type": "markdown",
      "source": [
        "##### 2. What is/are the insight(s) found from the chart?"
      ],
      "metadata": {
        "id": "ZWILFDl5p1ck"
      }
    },
    {
      "cell_type": "markdown",
      "source": [
        "Answer Here"
      ],
      "metadata": {
        "id": "x-lUsV2mp1ck"
      }
    },
    {
      "cell_type": "markdown",
      "source": [
        "##### 3. Will the gained insights help creating a positive business impact?\n",
        "Are there any insights that lead to negative growth? Justify with specific reason."
      ],
      "metadata": {
        "id": "M7G43BXep1ck"
      }
    },
    {
      "cell_type": "markdown",
      "source": [
        "Answer Here"
      ],
      "metadata": {
        "id": "5wwDJXsLp1cl"
      }
    },
    {
      "cell_type": "markdown",
      "source": [
        "#### Chart - 13"
      ],
      "metadata": {
        "id": "Ag9LCva-p1cl"
      }
    },
    {
      "cell_type": "code",
      "source": [
        "# Chart - 13 visualization code"
      ],
      "metadata": {
        "id": "EUfxeq9-p1cl"
      },
      "execution_count": 32,
      "outputs": []
    },
    {
      "cell_type": "markdown",
      "source": [
        "##### 1. Why did you pick the specific chart?"
      ],
      "metadata": {
        "id": "E6MkPsBcp1cl"
      }
    },
    {
      "cell_type": "markdown",
      "source": [
        "Answer Here."
      ],
      "metadata": {
        "id": "V22bRsFWp1cl"
      }
    },
    {
      "cell_type": "markdown",
      "source": [
        "##### 2. What is/are the insight(s) found from the chart?"
      ],
      "metadata": {
        "id": "2cELzS2fp1cl"
      }
    },
    {
      "cell_type": "markdown",
      "source": [
        "Answer Here"
      ],
      "metadata": {
        "id": "ozQPc2_Ip1cl"
      }
    },
    {
      "cell_type": "markdown",
      "source": [
        "##### 3. Will the gained insights help creating a positive business impact?\n",
        "Are there any insights that lead to negative growth? Justify with specific reason."
      ],
      "metadata": {
        "id": "3MPXvC8up1cl"
      }
    },
    {
      "cell_type": "markdown",
      "source": [
        "Answer Here"
      ],
      "metadata": {
        "id": "GL8l1tdLp1cl"
      }
    },
    {
      "cell_type": "markdown",
      "source": [
        "#### Chart - 14 - Correlation Heatmap"
      ],
      "metadata": {
        "id": "NC_X3p0fY2L0"
      }
    },
    {
      "cell_type": "code",
      "source": [
        "# Correlation Heatmap visualization code"
      ],
      "metadata": {
        "id": "xyC9zolEZNRQ"
      },
      "execution_count": 33,
      "outputs": []
    },
    {
      "cell_type": "markdown",
      "source": [
        "##### 1. Why did you pick the specific chart?"
      ],
      "metadata": {
        "id": "UV0SzAkaZNRQ"
      }
    },
    {
      "cell_type": "markdown",
      "source": [
        "Answer Here."
      ],
      "metadata": {
        "id": "DVPuT8LYZNRQ"
      }
    },
    {
      "cell_type": "markdown",
      "source": [
        "##### 2. What is/are the insight(s) found from the chart?"
      ],
      "metadata": {
        "id": "YPEH6qLeZNRQ"
      }
    },
    {
      "cell_type": "markdown",
      "source": [
        "Answer Here"
      ],
      "metadata": {
        "id": "bfSqtnDqZNRR"
      }
    },
    {
      "cell_type": "markdown",
      "source": [
        "#### Chart - 15 - Pair Plot"
      ],
      "metadata": {
        "id": "q29F0dvdveiT"
      }
    },
    {
      "cell_type": "code",
      "source": [
        "# Pair Plot visualization code"
      ],
      "metadata": {
        "id": "o58-TEIhveiU"
      },
      "execution_count": 34,
      "outputs": []
    },
    {
      "cell_type": "markdown",
      "source": [
        "##### 1. Why did you pick the specific chart?"
      ],
      "metadata": {
        "id": "EXh0U9oCveiU"
      }
    },
    {
      "cell_type": "markdown",
      "source": [
        "Answer Here."
      ],
      "metadata": {
        "id": "eMmPjTByveiU"
      }
    },
    {
      "cell_type": "markdown",
      "source": [
        "##### 2. What is/are the insight(s) found from the chart?"
      ],
      "metadata": {
        "id": "22aHeOlLveiV"
      }
    },
    {
      "cell_type": "markdown",
      "source": [
        "Answer Here"
      ],
      "metadata": {
        "id": "uPQ8RGwHveiV"
      }
    },
    {
      "cell_type": "markdown",
      "source": [
        "## **5. Solution to Business Objective**"
      ],
      "metadata": {
        "id": "JcMwzZxoAimU"
      }
    },
    {
      "cell_type": "markdown",
      "source": [
        "#### What do you suggest the client to achieve Business Objective ?\n",
        "Explain Briefly."
      ],
      "metadata": {
        "id": "8G2x9gOozGDZ"
      }
    },
    {
      "cell_type": "markdown",
      "source": [
        "Answer Here."
      ],
      "metadata": {
        "id": "pASKb0qOza21"
      }
    },
    {
      "cell_type": "markdown",
      "source": [
        "# **Conclusion**"
      ],
      "metadata": {
        "id": "gCX9965dhzqZ"
      }
    },
    {
      "cell_type": "markdown",
      "source": [
        "Write the conclusion here."
      ],
      "metadata": {
        "id": "Fjb1IsQkh3yE"
      }
    },
    {
      "cell_type": "markdown",
      "source": [
        "### ***Hurrah! You have successfully completed your EDA Capstone Project !!!***"
      ],
      "metadata": {
        "id": "gIfDvo9L0UH2"
      }
    }
  ]
}